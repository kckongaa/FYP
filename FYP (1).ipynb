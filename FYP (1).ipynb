{
  "nbformat": 4,
  "nbformat_minor": 0,
  "metadata": {
    "colab": {
      "name": "FYP.ipynb",
      "provenance": []
    },
    "kernelspec": {
      "name": "python3",
      "display_name": "Python 3"
    },
    "language_info": {
      "name": "python"
    }
  },
  "cells": [
    {
      "cell_type": "code",
      "source": [
        "import pandas as pd\n",
        "import numpy as np\n",
        "import collections"
      ],
      "metadata": {
        "id": "YA1bHFMNCKQr"
      },
      "execution_count": 1,
      "outputs": []
    },
    {
      "cell_type": "code",
      "execution_count": 2,
      "metadata": {
        "id": "ShrKx4rJ9p6y"
      },
      "outputs": [],
      "source": [
        "import pandas_datareader.data as web\n",
        "stock = web.DataReader('CCL', 'stooq')\n"
      ]
    },
    {
      "cell_type": "code",
      "source": [
        "stock"
      ],
      "metadata": {
        "colab": {
          "base_uri": "https://localhost:8080/",
          "height": 455
        },
        "id": "kxI6mnxA-mzg",
        "outputId": "a28cb06e-31a6-4832-e93d-bf406d372716"
      },
      "execution_count": 3,
      "outputs": [
        {
          "output_type": "execute_result",
          "data": {
            "text/plain": [
              "              Open    High     Low   Close    Volume\n",
              "Date                                                \n",
              "2022-03-11  17.925  18.000  17.180  17.210  28443519\n",
              "2022-03-10  16.820  18.230  16.710  17.650  42701108\n",
              "2022-03-09  16.910  17.780  16.850  17.270  58123210\n",
              "2022-03-08  15.680  16.550  14.940  15.880  68268984\n",
              "2022-03-07  17.300  17.480  15.520  15.530  67688568\n",
              "...            ...     ...     ...     ...       ...\n",
              "2017-03-17  52.151  52.342  51.999  52.051   4204136\n",
              "2017-03-16  51.717  52.007  51.637  51.960   2403791\n",
              "2017-03-15  51.519  51.960  51.383  51.807   2645671\n",
              "2017-03-14  51.528  51.745  51.232  51.464   2571273\n",
              "2017-03-13  51.797  51.852  51.528  51.573   2616309\n",
              "\n",
              "[1260 rows x 5 columns]"
            ],
            "text/html": [
              "\n",
              "  <div id=\"df-061a4127-24a2-4299-8562-5d9d6e73a72e\">\n",
              "    <div class=\"colab-df-container\">\n",
              "      <div>\n",
              "<style scoped>\n",
              "    .dataframe tbody tr th:only-of-type {\n",
              "        vertical-align: middle;\n",
              "    }\n",
              "\n",
              "    .dataframe tbody tr th {\n",
              "        vertical-align: top;\n",
              "    }\n",
              "\n",
              "    .dataframe thead th {\n",
              "        text-align: right;\n",
              "    }\n",
              "</style>\n",
              "<table border=\"1\" class=\"dataframe\">\n",
              "  <thead>\n",
              "    <tr style=\"text-align: right;\">\n",
              "      <th></th>\n",
              "      <th>Open</th>\n",
              "      <th>High</th>\n",
              "      <th>Low</th>\n",
              "      <th>Close</th>\n",
              "      <th>Volume</th>\n",
              "    </tr>\n",
              "    <tr>\n",
              "      <th>Date</th>\n",
              "      <th></th>\n",
              "      <th></th>\n",
              "      <th></th>\n",
              "      <th></th>\n",
              "      <th></th>\n",
              "    </tr>\n",
              "  </thead>\n",
              "  <tbody>\n",
              "    <tr>\n",
              "      <th>2022-03-11</th>\n",
              "      <td>17.925</td>\n",
              "      <td>18.000</td>\n",
              "      <td>17.180</td>\n",
              "      <td>17.210</td>\n",
              "      <td>28443519</td>\n",
              "    </tr>\n",
              "    <tr>\n",
              "      <th>2022-03-10</th>\n",
              "      <td>16.820</td>\n",
              "      <td>18.230</td>\n",
              "      <td>16.710</td>\n",
              "      <td>17.650</td>\n",
              "      <td>42701108</td>\n",
              "    </tr>\n",
              "    <tr>\n",
              "      <th>2022-03-09</th>\n",
              "      <td>16.910</td>\n",
              "      <td>17.780</td>\n",
              "      <td>16.850</td>\n",
              "      <td>17.270</td>\n",
              "      <td>58123210</td>\n",
              "    </tr>\n",
              "    <tr>\n",
              "      <th>2022-03-08</th>\n",
              "      <td>15.680</td>\n",
              "      <td>16.550</td>\n",
              "      <td>14.940</td>\n",
              "      <td>15.880</td>\n",
              "      <td>68268984</td>\n",
              "    </tr>\n",
              "    <tr>\n",
              "      <th>2022-03-07</th>\n",
              "      <td>17.300</td>\n",
              "      <td>17.480</td>\n",
              "      <td>15.520</td>\n",
              "      <td>15.530</td>\n",
              "      <td>67688568</td>\n",
              "    </tr>\n",
              "    <tr>\n",
              "      <th>...</th>\n",
              "      <td>...</td>\n",
              "      <td>...</td>\n",
              "      <td>...</td>\n",
              "      <td>...</td>\n",
              "      <td>...</td>\n",
              "    </tr>\n",
              "    <tr>\n",
              "      <th>2017-03-17</th>\n",
              "      <td>52.151</td>\n",
              "      <td>52.342</td>\n",
              "      <td>51.999</td>\n",
              "      <td>52.051</td>\n",
              "      <td>4204136</td>\n",
              "    </tr>\n",
              "    <tr>\n",
              "      <th>2017-03-16</th>\n",
              "      <td>51.717</td>\n",
              "      <td>52.007</td>\n",
              "      <td>51.637</td>\n",
              "      <td>51.960</td>\n",
              "      <td>2403791</td>\n",
              "    </tr>\n",
              "    <tr>\n",
              "      <th>2017-03-15</th>\n",
              "      <td>51.519</td>\n",
              "      <td>51.960</td>\n",
              "      <td>51.383</td>\n",
              "      <td>51.807</td>\n",
              "      <td>2645671</td>\n",
              "    </tr>\n",
              "    <tr>\n",
              "      <th>2017-03-14</th>\n",
              "      <td>51.528</td>\n",
              "      <td>51.745</td>\n",
              "      <td>51.232</td>\n",
              "      <td>51.464</td>\n",
              "      <td>2571273</td>\n",
              "    </tr>\n",
              "    <tr>\n",
              "      <th>2017-03-13</th>\n",
              "      <td>51.797</td>\n",
              "      <td>51.852</td>\n",
              "      <td>51.528</td>\n",
              "      <td>51.573</td>\n",
              "      <td>2616309</td>\n",
              "    </tr>\n",
              "  </tbody>\n",
              "</table>\n",
              "<p>1260 rows × 5 columns</p>\n",
              "</div>\n",
              "      <button class=\"colab-df-convert\" onclick=\"convertToInteractive('df-061a4127-24a2-4299-8562-5d9d6e73a72e')\"\n",
              "              title=\"Convert this dataframe to an interactive table.\"\n",
              "              style=\"display:none;\">\n",
              "        \n",
              "  <svg xmlns=\"http://www.w3.org/2000/svg\" height=\"24px\"viewBox=\"0 0 24 24\"\n",
              "       width=\"24px\">\n",
              "    <path d=\"M0 0h24v24H0V0z\" fill=\"none\"/>\n",
              "    <path d=\"M18.56 5.44l.94 2.06.94-2.06 2.06-.94-2.06-.94-.94-2.06-.94 2.06-2.06.94zm-11 1L8.5 8.5l.94-2.06 2.06-.94-2.06-.94L8.5 2.5l-.94 2.06-2.06.94zm10 10l.94 2.06.94-2.06 2.06-.94-2.06-.94-.94-2.06-.94 2.06-2.06.94z\"/><path d=\"M17.41 7.96l-1.37-1.37c-.4-.4-.92-.59-1.43-.59-.52 0-1.04.2-1.43.59L10.3 9.45l-7.72 7.72c-.78.78-.78 2.05 0 2.83L4 21.41c.39.39.9.59 1.41.59.51 0 1.02-.2 1.41-.59l7.78-7.78 2.81-2.81c.8-.78.8-2.07 0-2.86zM5.41 20L4 18.59l7.72-7.72 1.47 1.35L5.41 20z\"/>\n",
              "  </svg>\n",
              "      </button>\n",
              "      \n",
              "  <style>\n",
              "    .colab-df-container {\n",
              "      display:flex;\n",
              "      flex-wrap:wrap;\n",
              "      gap: 12px;\n",
              "    }\n",
              "\n",
              "    .colab-df-convert {\n",
              "      background-color: #E8F0FE;\n",
              "      border: none;\n",
              "      border-radius: 50%;\n",
              "      cursor: pointer;\n",
              "      display: none;\n",
              "      fill: #1967D2;\n",
              "      height: 32px;\n",
              "      padding: 0 0 0 0;\n",
              "      width: 32px;\n",
              "    }\n",
              "\n",
              "    .colab-df-convert:hover {\n",
              "      background-color: #E2EBFA;\n",
              "      box-shadow: 0px 1px 2px rgba(60, 64, 67, 0.3), 0px 1px 3px 1px rgba(60, 64, 67, 0.15);\n",
              "      fill: #174EA6;\n",
              "    }\n",
              "\n",
              "    [theme=dark] .colab-df-convert {\n",
              "      background-color: #3B4455;\n",
              "      fill: #D2E3FC;\n",
              "    }\n",
              "\n",
              "    [theme=dark] .colab-df-convert:hover {\n",
              "      background-color: #434B5C;\n",
              "      box-shadow: 0px 1px 3px 1px rgba(0, 0, 0, 0.15);\n",
              "      filter: drop-shadow(0px 1px 2px rgba(0, 0, 0, 0.3));\n",
              "      fill: #FFFFFF;\n",
              "    }\n",
              "  </style>\n",
              "\n",
              "      <script>\n",
              "        const buttonEl =\n",
              "          document.querySelector('#df-061a4127-24a2-4299-8562-5d9d6e73a72e button.colab-df-convert');\n",
              "        buttonEl.style.display =\n",
              "          google.colab.kernel.accessAllowed ? 'block' : 'none';\n",
              "\n",
              "        async function convertToInteractive(key) {\n",
              "          const element = document.querySelector('#df-061a4127-24a2-4299-8562-5d9d6e73a72e');\n",
              "          const dataTable =\n",
              "            await google.colab.kernel.invokeFunction('convertToInteractive',\n",
              "                                                     [key], {});\n",
              "          if (!dataTable) return;\n",
              "\n",
              "          const docLinkHtml = 'Like what you see? Visit the ' +\n",
              "            '<a target=\"_blank\" href=https://colab.research.google.com/notebooks/data_table.ipynb>data table notebook</a>'\n",
              "            + ' to learn more about interactive tables.';\n",
              "          element.innerHTML = '';\n",
              "          dataTable['output_type'] = 'display_data';\n",
              "          await google.colab.output.renderOutput(dataTable, element);\n",
              "          const docLink = document.createElement('div');\n",
              "          docLink.innerHTML = docLinkHtml;\n",
              "          element.appendChild(docLink);\n",
              "        }\n",
              "      </script>\n",
              "    </div>\n",
              "  </div>\n",
              "  "
            ]
          },
          "metadata": {},
          "execution_count": 3
        }
      ]
    },
    {
      "cell_type": "markdown",
      "source": [
        "# DTC\n"
      ],
      "metadata": {
        "id": "Kv9mHovpGgXG"
      }
    },
    {
      "cell_type": "code",
      "source": [
        "from sklearn.tree import DecisionTreeClassifier\n",
        "import matplotlib.pyplot as plt\n",
        "import matplotlib.dates as mdates\n",
        "import datetime as dt\n"
      ],
      "metadata": {
        "id": "FF-Pm2Vv-nxq"
      },
      "execution_count": 4,
      "outputs": []
    },
    {
      "cell_type": "code",
      "source": [
        "stock['Future'] = stock['High'].rolling(window = 30).mean()[::-1].shift(19)\n",
        "stock['Future']"
      ],
      "metadata": {
        "colab": {
          "base_uri": "https://localhost:8080/"
        },
        "id": "rjnR184V-yiv",
        "outputId": "92704527-6eae-49c8-9c9f-c97e17d99b91"
      },
      "execution_count": 11,
      "outputs": [
        {
          "output_type": "execute_result",
          "data": {
            "text/plain": [
              "Date\n",
              "2022-03-11   NaN\n",
              "2022-03-10   NaN\n",
              "2022-03-09   NaN\n",
              "2022-03-08   NaN\n",
              "2022-03-07   NaN\n",
              "              ..\n",
              "2017-03-17   NaN\n",
              "2017-03-16   NaN\n",
              "2017-03-15   NaN\n",
              "2017-03-14   NaN\n",
              "2017-03-13   NaN\n",
              "Name: Future, Length: 1260, dtype: float64"
            ]
          },
          "metadata": {},
          "execution_count": 11
        }
      ]
    },
    {
      "cell_type": "code",
      "source": [
        "stock['Return'] = stock['High'].pct_change(50).shift(-100)\n",
        "features = ['High','Volume']"
      ],
      "metadata": {
        "id": "ZOUJSRUk_71j"
      },
      "execution_count": 16,
      "outputs": []
    },
    {
      "cell_type": "code",
      "source": [
        "stock_test = stock[1000: :]\n",
        "stock_train = stock[0:1000:]\n",
        "# first 1000 days for training and 258days for testing"
      ],
      "metadata": {
        "id": "x69NHQmMB3tU"
      },
      "execution_count": 17,
      "outputs": []
    },
    {
      "cell_type": "code",
      "source": [
        "stock_test\n"
      ],
      "metadata": {
        "colab": {
          "base_uri": "https://localhost:8080/",
          "height": 455
        },
        "id": "iMJvHFqwB-jK",
        "outputId": "00a832bb-464b-4606-b932-3273ebeaf1bd"
      },
      "execution_count": 18,
      "outputs": [
        {
          "output_type": "execute_result",
          "data": {
            "text/plain": [
              "              Open    High     Low   Close   Volume     Future    Return\n",
              "Date                                                                    \n",
              "2018-03-22  63.665  64.028  61.118  61.330  6639393  62.150867 -0.023431\n",
              "2018-03-21  62.887  63.137  61.905  62.128  4950369  62.261100 -0.001196\n",
              "2018-03-20  63.009  63.878  62.731  62.857  4538846  62.395567 -0.017109\n",
              "2018-03-19  62.229  62.999  62.054  62.656  3753157  62.533533 -0.019750\n",
              "2018-03-16  61.905  62.137  61.451  61.989  4269285  62.669000 -0.013530\n",
              "...            ...     ...     ...     ...      ...        ...       ...\n",
              "2017-03-17  52.151  52.342  51.999  52.051  4204136        NaN       NaN\n",
              "2017-03-16  51.717  52.007  51.637  51.960  2403791        NaN       NaN\n",
              "2017-03-15  51.519  51.960  51.383  51.807  2645671        NaN       NaN\n",
              "2017-03-14  51.528  51.745  51.232  51.464  2571273        NaN       NaN\n",
              "2017-03-13  51.797  51.852  51.528  51.573  2616309        NaN       NaN\n",
              "\n",
              "[260 rows x 7 columns]"
            ],
            "text/html": [
              "\n",
              "  <div id=\"df-a92106b0-8011-4d88-bfeb-92ba9d999fd0\">\n",
              "    <div class=\"colab-df-container\">\n",
              "      <div>\n",
              "<style scoped>\n",
              "    .dataframe tbody tr th:only-of-type {\n",
              "        vertical-align: middle;\n",
              "    }\n",
              "\n",
              "    .dataframe tbody tr th {\n",
              "        vertical-align: top;\n",
              "    }\n",
              "\n",
              "    .dataframe thead th {\n",
              "        text-align: right;\n",
              "    }\n",
              "</style>\n",
              "<table border=\"1\" class=\"dataframe\">\n",
              "  <thead>\n",
              "    <tr style=\"text-align: right;\">\n",
              "      <th></th>\n",
              "      <th>Open</th>\n",
              "      <th>High</th>\n",
              "      <th>Low</th>\n",
              "      <th>Close</th>\n",
              "      <th>Volume</th>\n",
              "      <th>Future</th>\n",
              "      <th>Return</th>\n",
              "    </tr>\n",
              "    <tr>\n",
              "      <th>Date</th>\n",
              "      <th></th>\n",
              "      <th></th>\n",
              "      <th></th>\n",
              "      <th></th>\n",
              "      <th></th>\n",
              "      <th></th>\n",
              "      <th></th>\n",
              "    </tr>\n",
              "  </thead>\n",
              "  <tbody>\n",
              "    <tr>\n",
              "      <th>2018-03-22</th>\n",
              "      <td>63.665</td>\n",
              "      <td>64.028</td>\n",
              "      <td>61.118</td>\n",
              "      <td>61.330</td>\n",
              "      <td>6639393</td>\n",
              "      <td>62.150867</td>\n",
              "      <td>-0.023431</td>\n",
              "    </tr>\n",
              "    <tr>\n",
              "      <th>2018-03-21</th>\n",
              "      <td>62.887</td>\n",
              "      <td>63.137</td>\n",
              "      <td>61.905</td>\n",
              "      <td>62.128</td>\n",
              "      <td>4950369</td>\n",
              "      <td>62.261100</td>\n",
              "      <td>-0.001196</td>\n",
              "    </tr>\n",
              "    <tr>\n",
              "      <th>2018-03-20</th>\n",
              "      <td>63.009</td>\n",
              "      <td>63.878</td>\n",
              "      <td>62.731</td>\n",
              "      <td>62.857</td>\n",
              "      <td>4538846</td>\n",
              "      <td>62.395567</td>\n",
              "      <td>-0.017109</td>\n",
              "    </tr>\n",
              "    <tr>\n",
              "      <th>2018-03-19</th>\n",
              "      <td>62.229</td>\n",
              "      <td>62.999</td>\n",
              "      <td>62.054</td>\n",
              "      <td>62.656</td>\n",
              "      <td>3753157</td>\n",
              "      <td>62.533533</td>\n",
              "      <td>-0.019750</td>\n",
              "    </tr>\n",
              "    <tr>\n",
              "      <th>2018-03-16</th>\n",
              "      <td>61.905</td>\n",
              "      <td>62.137</td>\n",
              "      <td>61.451</td>\n",
              "      <td>61.989</td>\n",
              "      <td>4269285</td>\n",
              "      <td>62.669000</td>\n",
              "      <td>-0.013530</td>\n",
              "    </tr>\n",
              "    <tr>\n",
              "      <th>...</th>\n",
              "      <td>...</td>\n",
              "      <td>...</td>\n",
              "      <td>...</td>\n",
              "      <td>...</td>\n",
              "      <td>...</td>\n",
              "      <td>...</td>\n",
              "      <td>...</td>\n",
              "    </tr>\n",
              "    <tr>\n",
              "      <th>2017-03-17</th>\n",
              "      <td>52.151</td>\n",
              "      <td>52.342</td>\n",
              "      <td>51.999</td>\n",
              "      <td>52.051</td>\n",
              "      <td>4204136</td>\n",
              "      <td>NaN</td>\n",
              "      <td>NaN</td>\n",
              "    </tr>\n",
              "    <tr>\n",
              "      <th>2017-03-16</th>\n",
              "      <td>51.717</td>\n",
              "      <td>52.007</td>\n",
              "      <td>51.637</td>\n",
              "      <td>51.960</td>\n",
              "      <td>2403791</td>\n",
              "      <td>NaN</td>\n",
              "      <td>NaN</td>\n",
              "    </tr>\n",
              "    <tr>\n",
              "      <th>2017-03-15</th>\n",
              "      <td>51.519</td>\n",
              "      <td>51.960</td>\n",
              "      <td>51.383</td>\n",
              "      <td>51.807</td>\n",
              "      <td>2645671</td>\n",
              "      <td>NaN</td>\n",
              "      <td>NaN</td>\n",
              "    </tr>\n",
              "    <tr>\n",
              "      <th>2017-03-14</th>\n",
              "      <td>51.528</td>\n",
              "      <td>51.745</td>\n",
              "      <td>51.232</td>\n",
              "      <td>51.464</td>\n",
              "      <td>2571273</td>\n",
              "      <td>NaN</td>\n",
              "      <td>NaN</td>\n",
              "    </tr>\n",
              "    <tr>\n",
              "      <th>2017-03-13</th>\n",
              "      <td>51.797</td>\n",
              "      <td>51.852</td>\n",
              "      <td>51.528</td>\n",
              "      <td>51.573</td>\n",
              "      <td>2616309</td>\n",
              "      <td>NaN</td>\n",
              "      <td>NaN</td>\n",
              "    </tr>\n",
              "  </tbody>\n",
              "</table>\n",
              "<p>260 rows × 7 columns</p>\n",
              "</div>\n",
              "      <button class=\"colab-df-convert\" onclick=\"convertToInteractive('df-a92106b0-8011-4d88-bfeb-92ba9d999fd0')\"\n",
              "              title=\"Convert this dataframe to an interactive table.\"\n",
              "              style=\"display:none;\">\n",
              "        \n",
              "  <svg xmlns=\"http://www.w3.org/2000/svg\" height=\"24px\"viewBox=\"0 0 24 24\"\n",
              "       width=\"24px\">\n",
              "    <path d=\"M0 0h24v24H0V0z\" fill=\"none\"/>\n",
              "    <path d=\"M18.56 5.44l.94 2.06.94-2.06 2.06-.94-2.06-.94-.94-2.06-.94 2.06-2.06.94zm-11 1L8.5 8.5l.94-2.06 2.06-.94-2.06-.94L8.5 2.5l-.94 2.06-2.06.94zm10 10l.94 2.06.94-2.06 2.06-.94-2.06-.94-.94-2.06-.94 2.06-2.06.94z\"/><path d=\"M17.41 7.96l-1.37-1.37c-.4-.4-.92-.59-1.43-.59-.52 0-1.04.2-1.43.59L10.3 9.45l-7.72 7.72c-.78.78-.78 2.05 0 2.83L4 21.41c.39.39.9.59 1.41.59.51 0 1.02-.2 1.41-.59l7.78-7.78 2.81-2.81c.8-.78.8-2.07 0-2.86zM5.41 20L4 18.59l7.72-7.72 1.47 1.35L5.41 20z\"/>\n",
              "  </svg>\n",
              "      </button>\n",
              "      \n",
              "  <style>\n",
              "    .colab-df-container {\n",
              "      display:flex;\n",
              "      flex-wrap:wrap;\n",
              "      gap: 12px;\n",
              "    }\n",
              "\n",
              "    .colab-df-convert {\n",
              "      background-color: #E8F0FE;\n",
              "      border: none;\n",
              "      border-radius: 50%;\n",
              "      cursor: pointer;\n",
              "      display: none;\n",
              "      fill: #1967D2;\n",
              "      height: 32px;\n",
              "      padding: 0 0 0 0;\n",
              "      width: 32px;\n",
              "    }\n",
              "\n",
              "    .colab-df-convert:hover {\n",
              "      background-color: #E2EBFA;\n",
              "      box-shadow: 0px 1px 2px rgba(60, 64, 67, 0.3), 0px 1px 3px 1px rgba(60, 64, 67, 0.15);\n",
              "      fill: #174EA6;\n",
              "    }\n",
              "\n",
              "    [theme=dark] .colab-df-convert {\n",
              "      background-color: #3B4455;\n",
              "      fill: #D2E3FC;\n",
              "    }\n",
              "\n",
              "    [theme=dark] .colab-df-convert:hover {\n",
              "      background-color: #434B5C;\n",
              "      box-shadow: 0px 1px 3px 1px rgba(0, 0, 0, 0.15);\n",
              "      filter: drop-shadow(0px 1px 2px rgba(0, 0, 0, 0.3));\n",
              "      fill: #FFFFFF;\n",
              "    }\n",
              "  </style>\n",
              "\n",
              "      <script>\n",
              "        const buttonEl =\n",
              "          document.querySelector('#df-a92106b0-8011-4d88-bfeb-92ba9d999fd0 button.colab-df-convert');\n",
              "        buttonEl.style.display =\n",
              "          google.colab.kernel.accessAllowed ? 'block' : 'none';\n",
              "\n",
              "        async function convertToInteractive(key) {\n",
              "          const element = document.querySelector('#df-a92106b0-8011-4d88-bfeb-92ba9d999fd0');\n",
              "          const dataTable =\n",
              "            await google.colab.kernel.invokeFunction('convertToInteractive',\n",
              "                                                     [key], {});\n",
              "          if (!dataTable) return;\n",
              "\n",
              "          const docLinkHtml = 'Like what you see? Visit the ' +\n",
              "            '<a target=\"_blank\" href=https://colab.research.google.com/notebooks/data_table.ipynb>data table notebook</a>'\n",
              "            + ' to learn more about interactive tables.';\n",
              "          element.innerHTML = '';\n",
              "          dataTable['output_type'] = 'display_data';\n",
              "          await google.colab.output.renderOutput(dataTable, element);\n",
              "          const docLink = document.createElement('div');\n",
              "          docLink.innerHTML = docLinkHtml;\n",
              "          element.appendChild(docLink);\n",
              "        }\n",
              "      </script>\n",
              "    </div>\n",
              "  </div>\n",
              "  "
            ]
          },
          "metadata": {},
          "execution_count": 18
        }
      ]
    },
    {
      "cell_type": "code",
      "source": [
        "x_train = stock_train[features]\n",
        "x_test= stock_test[features]\n",
        "\n",
        "y_train = np.where(stock_train.Return > 0,1,0)\n",
        "y_test = np.where(stock_test.Return> 0,1,0)"
      ],
      "metadata": {
        "id": "MtI0nGY3CAUn"
      },
      "execution_count": 19,
      "outputs": []
    },
    {
      "cell_type": "code",
      "source": [
        "TC = DecisionTreeClassifier(max_depth=3,min_samples_leaf=6)\n",
        "TC.fit(x_train,y_train)"
      ],
      "metadata": {
        "colab": {
          "base_uri": "https://localhost:8080/"
        },
        "id": "e-LAWFZQCD30",
        "outputId": "2687cf4a-add3-4f4e-da58-18834973f8aa"
      },
      "execution_count": 20,
      "outputs": [
        {
          "output_type": "execute_result",
          "data": {
            "text/plain": [
              "DecisionTreeClassifier(max_depth=3, min_samples_leaf=6)"
            ]
          },
          "metadata": {},
          "execution_count": 20
        }
      ]
    },
    {
      "cell_type": "code",
      "source": [
        "y_pred = TC.predict(x_test)"
      ],
      "metadata": {
        "id": "TuExwq18CWLO"
      },
      "execution_count": 21,
      "outputs": []
    },
    {
      "cell_type": "code",
      "source": [
        "from sklearn.metrics import classification_report\n",
        "report = classification_report(y_test,y_pred)\n",
        "print(report)"
      ],
      "metadata": {
        "colab": {
          "base_uri": "https://localhost:8080/"
        },
        "id": "TVQZKOcrCYKQ",
        "outputId": "9b6ba46a-5ea5-4b0a-a64b-74b5fc67996e"
      },
      "execution_count": 22,
      "outputs": [
        {
          "output_type": "stream",
          "name": "stdout",
          "text": [
            "              precision    recall  f1-score   support\n",
            "\n",
            "           0       0.83      0.49      0.62       212\n",
            "           1       0.20      0.56      0.30        48\n",
            "\n",
            "    accuracy                           0.50       260\n",
            "   macro avg       0.52      0.53      0.46       260\n",
            "weighted avg       0.72      0.50      0.56       260\n",
            "\n"
          ]
        }
      ]
    },
    {
      "cell_type": "code",
      "source": [
        "from sklearn import tree \n",
        "import graphviz\n",
        "data = tree.export_graphviz(TC,filled=True,feature_names=features,class_names=np.array(['0','1']))\n",
        "graphviz.Source(data)"
      ],
      "metadata": {
        "colab": {
          "base_uri": "https://localhost:8080/",
          "height": 599
        },
        "id": "ZCdjtGj3Cayt",
        "outputId": "10f337a6-4753-4877-b4ab-b68724b328dc"
      },
      "execution_count": 23,
      "outputs": [
        {
          "output_type": "execute_result",
          "data": {
            "text/plain": [
              "<graphviz.files.Source at 0x7f88e0402d90>"
            ],
            "image/svg+xml": "<?xml version=\"1.0\" encoding=\"UTF-8\" standalone=\"no\"?>\n<!DOCTYPE svg PUBLIC \"-//W3C//DTD SVG 1.1//EN\"\n \"http://www.w3.org/Graphics/SVG/1.1/DTD/svg11.dtd\">\n<!-- Generated by graphviz version 2.40.1 (20161225.0304)\n -->\n<!-- Title: Tree Pages: 1 -->\n<svg width=\"1024pt\" height=\"433pt\"\n viewBox=\"0.00 0.00 1024.00 433.00\" xmlns=\"http://www.w3.org/2000/svg\" xmlns:xlink=\"http://www.w3.org/1999/xlink\">\n<g id=\"graph0\" class=\"graph\" transform=\"scale(1 1) rotate(0) translate(4 429)\">\n<title>Tree</title>\n<polygon fill=\"#ffffff\" stroke=\"transparent\" points=\"-4,4 -4,-429 1020,-429 1020,4 -4,4\"/>\n<!-- 0 -->\n<g id=\"node1\" class=\"node\">\n<title>0</title>\n<polygon fill=\"#bcdef6\" stroke=\"#000000\" points=\"565,-425 406,-425 406,-342 565,-342 565,-425\"/>\n<text text-anchor=\"middle\" x=\"485.5\" y=\"-409.8\" font-family=\"Helvetica,sans-Serif\" font-size=\"14.00\" fill=\"#000000\">Volume &lt;= 7812043.5</text>\n<text text-anchor=\"middle\" x=\"485.5\" y=\"-394.8\" font-family=\"Helvetica,sans-Serif\" font-size=\"14.00\" fill=\"#000000\">gini = 0.48</text>\n<text text-anchor=\"middle\" x=\"485.5\" y=\"-379.8\" font-family=\"Helvetica,sans-Serif\" font-size=\"14.00\" fill=\"#000000\">samples = 1000</text>\n<text text-anchor=\"middle\" x=\"485.5\" y=\"-364.8\" font-family=\"Helvetica,sans-Serif\" font-size=\"14.00\" fill=\"#000000\">value = [399, 601]</text>\n<text text-anchor=\"middle\" x=\"485.5\" y=\"-349.8\" font-family=\"Helvetica,sans-Serif\" font-size=\"14.00\" fill=\"#000000\">class = 1</text>\n</g>\n<!-- 1 -->\n<g id=\"node2\" class=\"node\">\n<title>1</title>\n<polygon fill=\"#86c3ef\" stroke=\"#000000\" points=\"438.5,-306 306.5,-306 306.5,-223 438.5,-223 438.5,-306\"/>\n<text text-anchor=\"middle\" x=\"372.5\" y=\"-290.8\" font-family=\"Helvetica,sans-Serif\" font-size=\"14.00\" fill=\"#000000\">High &lt;= 58.566</text>\n<text text-anchor=\"middle\" x=\"372.5\" y=\"-275.8\" font-family=\"Helvetica,sans-Serif\" font-size=\"14.00\" fill=\"#000000\">gini = 0.404</text>\n<text text-anchor=\"middle\" x=\"372.5\" y=\"-260.8\" font-family=\"Helvetica,sans-Serif\" font-size=\"14.00\" fill=\"#000000\">samples = 459</text>\n<text text-anchor=\"middle\" x=\"372.5\" y=\"-245.8\" font-family=\"Helvetica,sans-Serif\" font-size=\"14.00\" fill=\"#000000\">value = [129, 330]</text>\n<text text-anchor=\"middle\" x=\"372.5\" y=\"-230.8\" font-family=\"Helvetica,sans-Serif\" font-size=\"14.00\" fill=\"#000000\">class = 1</text>\n</g>\n<!-- 0&#45;&gt;1 -->\n<g id=\"edge1\" class=\"edge\">\n<title>0&#45;&gt;1</title>\n<path fill=\"none\" stroke=\"#000000\" d=\"M445.9781,-341.8796C437.3403,-332.7832 428.119,-323.0722 419.2303,-313.7116\"/>\n<polygon fill=\"#000000\" stroke=\"#000000\" points=\"421.6146,-311.1395 412.1906,-306.2981 416.5385,-315.9597 421.6146,-311.1395\"/>\n<text text-anchor=\"middle\" x=\"411.5443\" y=\"-327.5897\" font-family=\"Helvetica,sans-Serif\" font-size=\"14.00\" fill=\"#000000\">True</text>\n</g>\n<!-- 8 -->\n<g id=\"node9\" class=\"node\">\n<title>8</title>\n<polygon fill=\"#feffff\" stroke=\"#000000\" points=\"690.5,-306 558.5,-306 558.5,-223 690.5,-223 690.5,-306\"/>\n<text text-anchor=\"middle\" x=\"624.5\" y=\"-290.8\" font-family=\"Helvetica,sans-Serif\" font-size=\"14.00\" fill=\"#000000\">High &lt;= 26.023</text>\n<text text-anchor=\"middle\" x=\"624.5\" y=\"-275.8\" font-family=\"Helvetica,sans-Serif\" font-size=\"14.00\" fill=\"#000000\">gini = 0.5</text>\n<text text-anchor=\"middle\" x=\"624.5\" y=\"-260.8\" font-family=\"Helvetica,sans-Serif\" font-size=\"14.00\" fill=\"#000000\">samples = 541</text>\n<text text-anchor=\"middle\" x=\"624.5\" y=\"-245.8\" font-family=\"Helvetica,sans-Serif\" font-size=\"14.00\" fill=\"#000000\">value = [270, 271]</text>\n<text text-anchor=\"middle\" x=\"624.5\" y=\"-230.8\" font-family=\"Helvetica,sans-Serif\" font-size=\"14.00\" fill=\"#000000\">class = 1</text>\n</g>\n<!-- 0&#45;&gt;8 -->\n<g id=\"edge8\" class=\"edge\">\n<title>0&#45;&gt;8</title>\n<path fill=\"none\" stroke=\"#000000\" d=\"M534.1155,-341.8796C545.0562,-332.513 556.7582,-322.4948 567.9908,-312.8784\"/>\n<polygon fill=\"#000000\" stroke=\"#000000\" points=\"570.3568,-315.4603 575.677,-306.2981 565.8044,-310.1428 570.3568,-315.4603\"/>\n<text text-anchor=\"middle\" x=\"573.7449\" y=\"-327.5233\" font-family=\"Helvetica,sans-Serif\" font-size=\"14.00\" fill=\"#000000\">False</text>\n</g>\n<!-- 2 -->\n<g id=\"node3\" class=\"node\">\n<title>2</title>\n<polygon fill=\"#70b8ec\" stroke=\"#000000\" points=\"259,-187 100,-187 100,-104 259,-104 259,-187\"/>\n<text text-anchor=\"middle\" x=\"179.5\" y=\"-171.8\" font-family=\"Helvetica,sans-Serif\" font-size=\"14.00\" fill=\"#000000\">Volume &lt;= 2154540.5</text>\n<text text-anchor=\"middle\" x=\"179.5\" y=\"-156.8\" font-family=\"Helvetica,sans-Serif\" font-size=\"14.00\" fill=\"#000000\">gini = 0.339</text>\n<text text-anchor=\"middle\" x=\"179.5\" y=\"-141.8\" font-family=\"Helvetica,sans-Serif\" font-size=\"14.00\" fill=\"#000000\">samples = 383</text>\n<text text-anchor=\"middle\" x=\"179.5\" y=\"-126.8\" font-family=\"Helvetica,sans-Serif\" font-size=\"14.00\" fill=\"#000000\">value = [83, 300]</text>\n<text text-anchor=\"middle\" x=\"179.5\" y=\"-111.8\" font-family=\"Helvetica,sans-Serif\" font-size=\"14.00\" fill=\"#000000\">class = 1</text>\n</g>\n<!-- 1&#45;&gt;2 -->\n<g id=\"edge2\" class=\"edge\">\n<title>1&#45;&gt;2</title>\n<path fill=\"none\" stroke=\"#000000\" d=\"M306.3504,-223.7134C289.996,-213.6296 272.3467,-202.7475 255.5621,-192.3984\"/>\n<polygon fill=\"#000000\" stroke=\"#000000\" points=\"257.224,-189.3113 246.875,-187.0421 253.5501,-195.2697 257.224,-189.3113\"/>\n</g>\n<!-- 5 -->\n<g id=\"node6\" class=\"node\">\n<title>5</title>\n<polygon fill=\"#f6d3ba\" stroke=\"#000000\" points=\"430.5,-187 314.5,-187 314.5,-104 430.5,-104 430.5,-187\"/>\n<text text-anchor=\"middle\" x=\"372.5\" y=\"-171.8\" font-family=\"Helvetica,sans-Serif\" font-size=\"14.00\" fill=\"#000000\">High &lt;= 62.038</text>\n<text text-anchor=\"middle\" x=\"372.5\" y=\"-156.8\" font-family=\"Helvetica,sans-Serif\" font-size=\"14.00\" fill=\"#000000\">gini = 0.478</text>\n<text text-anchor=\"middle\" x=\"372.5\" y=\"-141.8\" font-family=\"Helvetica,sans-Serif\" font-size=\"14.00\" fill=\"#000000\">samples = 76</text>\n<text text-anchor=\"middle\" x=\"372.5\" y=\"-126.8\" font-family=\"Helvetica,sans-Serif\" font-size=\"14.00\" fill=\"#000000\">value = [46, 30]</text>\n<text text-anchor=\"middle\" x=\"372.5\" y=\"-111.8\" font-family=\"Helvetica,sans-Serif\" font-size=\"14.00\" fill=\"#000000\">class = 0</text>\n</g>\n<!-- 1&#45;&gt;5 -->\n<g id=\"edge5\" class=\"edge\">\n<title>1&#45;&gt;5</title>\n<path fill=\"none\" stroke=\"#000000\" d=\"M372.5,-222.8796C372.5,-214.6838 372.5,-205.9891 372.5,-197.5013\"/>\n<polygon fill=\"#000000\" stroke=\"#000000\" points=\"376.0001,-197.298 372.5,-187.2981 369.0001,-197.2981 376.0001,-197.298\"/>\n</g>\n<!-- 3 -->\n<g id=\"node4\" class=\"node\">\n<title>3</title>\n<polygon fill=\"#f5cdb0\" stroke=\"#000000\" points=\"99,-68 0,-68 0,0 99,0 99,-68\"/>\n<text text-anchor=\"middle\" x=\"49.5\" y=\"-52.8\" font-family=\"Helvetica,sans-Serif\" font-size=\"14.00\" fill=\"#000000\">gini = 0.469</text>\n<text text-anchor=\"middle\" x=\"49.5\" y=\"-37.8\" font-family=\"Helvetica,sans-Serif\" font-size=\"14.00\" fill=\"#000000\">samples = 8</text>\n<text text-anchor=\"middle\" x=\"49.5\" y=\"-22.8\" font-family=\"Helvetica,sans-Serif\" font-size=\"14.00\" fill=\"#000000\">value = [5, 3]</text>\n<text text-anchor=\"middle\" x=\"49.5\" y=\"-7.8\" font-family=\"Helvetica,sans-Serif\" font-size=\"14.00\" fill=\"#000000\">class = 0</text>\n</g>\n<!-- 2&#45;&gt;3 -->\n<g id=\"edge3\" class=\"edge\">\n<title>2&#45;&gt;3</title>\n<path fill=\"none\" stroke=\"#000000\" d=\"M131.0928,-103.9815C120.0558,-94.5151 108.3347,-84.462 97.3223,-75.0168\"/>\n<polygon fill=\"#000000\" stroke=\"#000000\" points=\"99.3178,-72.1173 89.4487,-68.2637 94.7606,-77.4307 99.3178,-72.1173\"/>\n</g>\n<!-- 4 -->\n<g id=\"node5\" class=\"node\">\n<title>4</title>\n<polygon fill=\"#6db7ec\" stroke=\"#000000\" points=\"241.5,-68 117.5,-68 117.5,0 241.5,0 241.5,-68\"/>\n<text text-anchor=\"middle\" x=\"179.5\" y=\"-52.8\" font-family=\"Helvetica,sans-Serif\" font-size=\"14.00\" fill=\"#000000\">gini = 0.329</text>\n<text text-anchor=\"middle\" x=\"179.5\" y=\"-37.8\" font-family=\"Helvetica,sans-Serif\" font-size=\"14.00\" fill=\"#000000\">samples = 375</text>\n<text text-anchor=\"middle\" x=\"179.5\" y=\"-22.8\" font-family=\"Helvetica,sans-Serif\" font-size=\"14.00\" fill=\"#000000\">value = [78, 297]</text>\n<text text-anchor=\"middle\" x=\"179.5\" y=\"-7.8\" font-family=\"Helvetica,sans-Serif\" font-size=\"14.00\" fill=\"#000000\">class = 1</text>\n</g>\n<!-- 2&#45;&gt;4 -->\n<g id=\"edge4\" class=\"edge\">\n<title>2&#45;&gt;4</title>\n<path fill=\"none\" stroke=\"#000000\" d=\"M179.5,-103.9815C179.5,-95.618 179.5,-86.7965 179.5,-78.3409\"/>\n<polygon fill=\"#000000\" stroke=\"#000000\" points=\"183.0001,-78.2636 179.5,-68.2637 176.0001,-78.2637 183.0001,-78.2636\"/>\n</g>\n<!-- 6 -->\n<g id=\"node7\" class=\"node\">\n<title>6</title>\n<polygon fill=\"#f2c19e\" stroke=\"#000000\" points=\"375.5,-68 259.5,-68 259.5,0 375.5,0 375.5,-68\"/>\n<text text-anchor=\"middle\" x=\"317.5\" y=\"-52.8\" font-family=\"Helvetica,sans-Serif\" font-size=\"14.00\" fill=\"#000000\">gini = 0.448</text>\n<text text-anchor=\"middle\" x=\"317.5\" y=\"-37.8\" font-family=\"Helvetica,sans-Serif\" font-size=\"14.00\" fill=\"#000000\">samples = 68</text>\n<text text-anchor=\"middle\" x=\"317.5\" y=\"-22.8\" font-family=\"Helvetica,sans-Serif\" font-size=\"14.00\" fill=\"#000000\">value = [45, 23]</text>\n<text text-anchor=\"middle\" x=\"317.5\" y=\"-7.8\" font-family=\"Helvetica,sans-Serif\" font-size=\"14.00\" fill=\"#000000\">class = 0</text>\n</g>\n<!-- 5&#45;&gt;6 -->\n<g id=\"edge6\" class=\"edge\">\n<title>5&#45;&gt;6</title>\n<path fill=\"none\" stroke=\"#000000\" d=\"M352.02,-103.9815C347.7585,-95.3423 343.256,-86.2144 338.9603,-77.5059\"/>\n<polygon fill=\"#000000\" stroke=\"#000000\" points=\"341.9641,-75.6836 334.4014,-68.2637 335.6863,-78.7803 341.9641,-75.6836\"/>\n</g>\n<!-- 7 -->\n<g id=\"node8\" class=\"node\">\n<title>7</title>\n<polygon fill=\"#55abe9\" stroke=\"#000000\" points=\"493,-68 394,-68 394,0 493,0 493,-68\"/>\n<text text-anchor=\"middle\" x=\"443.5\" y=\"-52.8\" font-family=\"Helvetica,sans-Serif\" font-size=\"14.00\" fill=\"#000000\">gini = 0.219</text>\n<text text-anchor=\"middle\" x=\"443.5\" y=\"-37.8\" font-family=\"Helvetica,sans-Serif\" font-size=\"14.00\" fill=\"#000000\">samples = 8</text>\n<text text-anchor=\"middle\" x=\"443.5\" y=\"-22.8\" font-family=\"Helvetica,sans-Serif\" font-size=\"14.00\" fill=\"#000000\">value = [1, 7]</text>\n<text text-anchor=\"middle\" x=\"443.5\" y=\"-7.8\" font-family=\"Helvetica,sans-Serif\" font-size=\"14.00\" fill=\"#000000\">class = 1</text>\n</g>\n<!-- 5&#45;&gt;7 -->\n<g id=\"edge7\" class=\"edge\">\n<title>5&#45;&gt;7</title>\n<path fill=\"none\" stroke=\"#000000\" d=\"M398.9378,-103.9815C404.556,-95.1585 410.4988,-85.8258 416.1503,-76.9506\"/>\n<polygon fill=\"#000000\" stroke=\"#000000\" points=\"419.2629,-78.5787 421.6819,-68.2637 413.3584,-74.8188 419.2629,-78.5787\"/>\n</g>\n<!-- 9 -->\n<g id=\"node10\" class=\"node\">\n<title>9</title>\n<polygon fill=\"#bbddf6\" stroke=\"#000000\" points=\"690.5,-187 558.5,-187 558.5,-104 690.5,-104 690.5,-187\"/>\n<text text-anchor=\"middle\" x=\"624.5\" y=\"-171.8\" font-family=\"Helvetica,sans-Serif\" font-size=\"14.00\" fill=\"#000000\">High &lt;= 12.295</text>\n<text text-anchor=\"middle\" x=\"624.5\" y=\"-156.8\" font-family=\"Helvetica,sans-Serif\" font-size=\"14.00\" fill=\"#000000\">gini = 0.479</text>\n<text text-anchor=\"middle\" x=\"624.5\" y=\"-141.8\" font-family=\"Helvetica,sans-Serif\" font-size=\"14.00\" fill=\"#000000\">samples = 411</text>\n<text text-anchor=\"middle\" x=\"624.5\" y=\"-126.8\" font-family=\"Helvetica,sans-Serif\" font-size=\"14.00\" fill=\"#000000\">value = [163, 248]</text>\n<text text-anchor=\"middle\" x=\"624.5\" y=\"-111.8\" font-family=\"Helvetica,sans-Serif\" font-size=\"14.00\" fill=\"#000000\">class = 1</text>\n</g>\n<!-- 8&#45;&gt;9 -->\n<g id=\"edge9\" class=\"edge\">\n<title>8&#45;&gt;9</title>\n<path fill=\"none\" stroke=\"#000000\" d=\"M624.5,-222.8796C624.5,-214.6838 624.5,-205.9891 624.5,-197.5013\"/>\n<polygon fill=\"#000000\" stroke=\"#000000\" points=\"628.0001,-197.298 624.5,-187.2981 621.0001,-197.2981 628.0001,-197.298\"/>\n</g>\n<!-- 12 -->\n<g id=\"node13\" class=\"node\">\n<title>12</title>\n<polygon fill=\"#eb9c64\" stroke=\"#000000\" points=\"896.5,-187 772.5,-187 772.5,-104 896.5,-104 896.5,-187\"/>\n<text text-anchor=\"middle\" x=\"834.5\" y=\"-171.8\" font-family=\"Helvetica,sans-Serif\" font-size=\"14.00\" fill=\"#000000\">High &lt;= 42.364</text>\n<text text-anchor=\"middle\" x=\"834.5\" y=\"-156.8\" font-family=\"Helvetica,sans-Serif\" font-size=\"14.00\" fill=\"#000000\">gini = 0.291</text>\n<text text-anchor=\"middle\" x=\"834.5\" y=\"-141.8\" font-family=\"Helvetica,sans-Serif\" font-size=\"14.00\" fill=\"#000000\">samples = 130</text>\n<text text-anchor=\"middle\" x=\"834.5\" y=\"-126.8\" font-family=\"Helvetica,sans-Serif\" font-size=\"14.00\" fill=\"#000000\">value = [107, 23]</text>\n<text text-anchor=\"middle\" x=\"834.5\" y=\"-111.8\" font-family=\"Helvetica,sans-Serif\" font-size=\"14.00\" fill=\"#000000\">class = 0</text>\n</g>\n<!-- 8&#45;&gt;12 -->\n<g id=\"edge12\" class=\"edge\">\n<title>8&#45;&gt;12</title>\n<path fill=\"none\" stroke=\"#000000\" d=\"M690.6571,-227.011C713.7905,-213.9021 739.8522,-199.1338 763.3738,-185.8049\"/>\n<polygon fill=\"#000000\" stroke=\"#000000\" points=\"765.2782,-188.7486 772.2529,-180.7734 761.8271,-182.6584 765.2782,-188.7486\"/>\n</g>\n<!-- 10 -->\n<g id=\"node11\" class=\"node\">\n<title>10</title>\n<polygon fill=\"#e89152\" stroke=\"#000000\" points=\"610,-68 511,-68 511,0 610,0 610,-68\"/>\n<text text-anchor=\"middle\" x=\"560.5\" y=\"-52.8\" font-family=\"Helvetica,sans-Serif\" font-size=\"14.00\" fill=\"#000000\">gini = 0.198</text>\n<text text-anchor=\"middle\" x=\"560.5\" y=\"-37.8\" font-family=\"Helvetica,sans-Serif\" font-size=\"14.00\" fill=\"#000000\">samples = 9</text>\n<text text-anchor=\"middle\" x=\"560.5\" y=\"-22.8\" font-family=\"Helvetica,sans-Serif\" font-size=\"14.00\" fill=\"#000000\">value = [8, 1]</text>\n<text text-anchor=\"middle\" x=\"560.5\" y=\"-7.8\" font-family=\"Helvetica,sans-Serif\" font-size=\"14.00\" fill=\"#000000\">class = 0</text>\n</g>\n<!-- 9&#45;&gt;10 -->\n<g id=\"edge10\" class=\"edge\">\n<title>9&#45;&gt;10</title>\n<path fill=\"none\" stroke=\"#000000\" d=\"M600.6688,-103.9815C595.6044,-95.1585 590.2475,-85.8258 585.1532,-76.9506\"/>\n<polygon fill=\"#000000\" stroke=\"#000000\" points=\"588.1807,-75.1942 580.167,-68.2637 582.1097,-78.6789 588.1807,-75.1942\"/>\n</g>\n<!-- 11 -->\n<g id=\"node12\" class=\"node\">\n<title>11</title>\n<polygon fill=\"#b5daf5\" stroke=\"#000000\" points=\"760.5,-68 628.5,-68 628.5,0 760.5,0 760.5,-68\"/>\n<text text-anchor=\"middle\" x=\"694.5\" y=\"-52.8\" font-family=\"Helvetica,sans-Serif\" font-size=\"14.00\" fill=\"#000000\">gini = 0.474</text>\n<text text-anchor=\"middle\" x=\"694.5\" y=\"-37.8\" font-family=\"Helvetica,sans-Serif\" font-size=\"14.00\" fill=\"#000000\">samples = 402</text>\n<text text-anchor=\"middle\" x=\"694.5\" y=\"-22.8\" font-family=\"Helvetica,sans-Serif\" font-size=\"14.00\" fill=\"#000000\">value = [155, 247]</text>\n<text text-anchor=\"middle\" x=\"694.5\" y=\"-7.8\" font-family=\"Helvetica,sans-Serif\" font-size=\"14.00\" fill=\"#000000\">class = 1</text>\n</g>\n<!-- 9&#45;&gt;11 -->\n<g id=\"edge11\" class=\"edge\">\n<title>9&#45;&gt;11</title>\n<path fill=\"none\" stroke=\"#000000\" d=\"M650.5654,-103.9815C656.1045,-95.1585 661.9636,-85.8258 667.5355,-76.9506\"/>\n<polygon fill=\"#000000\" stroke=\"#000000\" points=\"670.6363,-78.594 672.9892,-68.2637 664.7078,-74.872 670.6363,-78.594\"/>\n</g>\n<!-- 13 -->\n<g id=\"node14\" class=\"node\">\n<title>13</title>\n<polygon fill=\"#e78c4b\" stroke=\"#000000\" points=\"890.5,-68 778.5,-68 778.5,0 890.5,0 890.5,-68\"/>\n<text text-anchor=\"middle\" x=\"834.5\" y=\"-52.8\" font-family=\"Helvetica,sans-Serif\" font-size=\"14.00\" fill=\"#000000\">gini = 0.153</text>\n<text text-anchor=\"middle\" x=\"834.5\" y=\"-37.8\" font-family=\"Helvetica,sans-Serif\" font-size=\"14.00\" fill=\"#000000\">samples = 108</text>\n<text text-anchor=\"middle\" x=\"834.5\" y=\"-22.8\" font-family=\"Helvetica,sans-Serif\" font-size=\"14.00\" fill=\"#000000\">value = [99, 9]</text>\n<text text-anchor=\"middle\" x=\"834.5\" y=\"-7.8\" font-family=\"Helvetica,sans-Serif\" font-size=\"14.00\" fill=\"#000000\">class = 0</text>\n</g>\n<!-- 12&#45;&gt;13 -->\n<g id=\"edge13\" class=\"edge\">\n<title>12&#45;&gt;13</title>\n<path fill=\"none\" stroke=\"#000000\" d=\"M834.5,-103.9815C834.5,-95.618 834.5,-86.7965 834.5,-78.3409\"/>\n<polygon fill=\"#000000\" stroke=\"#000000\" points=\"838.0001,-78.2636 834.5,-68.2637 831.0001,-78.2637 838.0001,-78.2636\"/>\n</g>\n<!-- 14 -->\n<g id=\"node15\" class=\"node\">\n<title>14</title>\n<polygon fill=\"#aad5f4\" stroke=\"#000000\" points=\"1016,-68 909,-68 909,0 1016,0 1016,-68\"/>\n<text text-anchor=\"middle\" x=\"962.5\" y=\"-52.8\" font-family=\"Helvetica,sans-Serif\" font-size=\"14.00\" fill=\"#000000\">gini = 0.463</text>\n<text text-anchor=\"middle\" x=\"962.5\" y=\"-37.8\" font-family=\"Helvetica,sans-Serif\" font-size=\"14.00\" fill=\"#000000\">samples = 22</text>\n<text text-anchor=\"middle\" x=\"962.5\" y=\"-22.8\" font-family=\"Helvetica,sans-Serif\" font-size=\"14.00\" fill=\"#000000\">value = [8, 14]</text>\n<text text-anchor=\"middle\" x=\"962.5\" y=\"-7.8\" font-family=\"Helvetica,sans-Serif\" font-size=\"14.00\" fill=\"#000000\">class = 1</text>\n</g>\n<!-- 12&#45;&gt;14 -->\n<g id=\"edge14\" class=\"edge\">\n<title>12&#45;&gt;14</title>\n<path fill=\"none\" stroke=\"#000000\" d=\"M882.1625,-103.9815C893.0297,-94.5151 904.5705,-84.462 915.4135,-75.0168\"/>\n<polygon fill=\"#000000\" stroke=\"#000000\" points=\"917.9245,-77.4712 923.1659,-68.2637 913.3266,-72.1929 917.9245,-77.4712\"/>\n</g>\n</g>\n</svg>\n"
          },
          "metadata": {},
          "execution_count": 23
        }
      ]
    },
    {
      "cell_type": "markdown",
      "source": [
        "# SVR"
      ],
      "metadata": {
        "id": "g1WvBa5mHvOo"
      }
    },
    {
      "cell_type": "code",
      "source": [
        "from sklearn.svm import SVR\n",
        "from sklearn.metrics import r2_score, mean_squared_error, mean_absolute_error\n",
        "from datetime import datetime"
      ],
      "metadata": {
        "id": "R74AwQgfIG-H"
      },
      "execution_count": 24,
      "outputs": []
    },
    {
      "cell_type": "code",
      "source": [
        "stock_svr = stock.reset_index()"
      ],
      "metadata": {
        "id": "H-D0s6wbu_g_"
      },
      "execution_count": 25,
      "outputs": []
    },
    {
      "cell_type": "code",
      "source": [
        "dates = stock_svr.index.tolist()\n",
        "dates_arr = [[i]for i in dates]"
      ],
      "metadata": {
        "id": "oTRDtCCLIHTw"
      },
      "execution_count": 26,
      "outputs": []
    },
    {
      "cell_type": "code",
      "source": [
        "High = stock['High'].tolist()"
      ],
      "metadata": {
        "id": "PbQiGH4aodal"
      },
      "execution_count": 27,
      "outputs": []
    },
    {
      "cell_type": "code",
      "source": [
        "from sklearn.model_selection import train_test_split\n",
        "x_train,x_test,y_train,y_test = train_test_split(dates_arr, High, test_size = 0.25)"
      ],
      "metadata": {
        "id": "H0Nf4FLZp5mv"
      },
      "execution_count": 28,
      "outputs": []
    },
    {
      "cell_type": "code",
      "source": [
        "lin_svr = SVR(kernel='linear')\n",
        "\n",
        "poly_svr = SVR(kernel='poly', C=1000.0, degree = 2)\n",
        "\n",
        "rbf_svr = SVR(kernel='rbf', C=1000.0, gamma=0.15)"
      ],
      "metadata": {
        "id": "jJjsmx9dmhl-"
      },
      "execution_count": 29,
      "outputs": []
    },
    {
      "cell_type": "code",
      "source": [
        "lin_svr.fit(x_train,y_train)\n",
        "poly_svr.fit(x_train,y_train)\n",
        "rbf_svr.fit(x_train,y_train)"
      ],
      "metadata": {
        "colab": {
          "base_uri": "https://localhost:8080/"
        },
        "id": "qyRaPgPnnose",
        "outputId": "96df15e9-66ef-4613-b5f8-8a890ff221a4"
      },
      "execution_count": 30,
      "outputs": [
        {
          "output_type": "execute_result",
          "data": {
            "text/plain": [
              "SVR(C=1000.0, gamma=0.15)"
            ]
          },
          "metadata": {},
          "execution_count": 30
        }
      ]
    },
    {
      "cell_type": "code",
      "source": [
        "lin_svr_predict = lin_svr.predict(x_test)\n",
        "\n",
        "print('Lin_svr:')\n",
        "print('   r2 score: '+str(r2_score(y_test, lin_svr_predict)))\n",
        "print('   RMSE : '+str(np.sqrt(mean_squared_error(y_test, lin_svr_predict))))\n",
        "print(\"   Mean Absolute Error : \" + str(mean_absolute_error(y_test, lin_svr_predict)))"
      ],
      "metadata": {
        "colab": {
          "base_uri": "https://localhost:8080/"
        },
        "id": "cuW1KaXQp2so",
        "outputId": "151e4ee1-44d3-411f-dc38-7b4dd93d20c7"
      },
      "execution_count": 31,
      "outputs": [
        {
          "output_type": "stream",
          "name": "stdout",
          "text": [
            "Lin_svr:\n",
            "   r2 score: 0.7765661499253347\n",
            "   RMSE : 8.115981783476697\n",
            "   Mean Absolute Error : 5.454358884139268\n"
          ]
        }
      ]
    },
    {
      "cell_type": "code",
      "source": [
        "poly_svr_predict = poly_svr.predict(x_test)\n",
        "\n",
        "print('poly_svr:')\n",
        "print('   r2 score: '+str(r2_score(y_test, poly_svr_predict)))\n",
        "print('   RMSE : '+str(np.sqrt(mean_squared_error(y_test, poly_svr_predict))))\n",
        "print(\"   Mean Absolute Error : \" + str(mean_absolute_error(y_test, lin_svr_predict)))"
      ],
      "metadata": {
        "colab": {
          "base_uri": "https://localhost:8080/"
        },
        "id": "-5QcC5UlyO7V",
        "outputId": "56738c69-00c8-4723-ae40-e1960e3a1bc9"
      },
      "execution_count": 32,
      "outputs": [
        {
          "output_type": "stream",
          "name": "stdout",
          "text": [
            "poly_svr:\n",
            "   r2 score: 0.6962159466383999\n",
            "   RMSE : 9.46344070505221\n",
            "   Mean Absolute Error : 5.454358884139268\n"
          ]
        }
      ]
    },
    {
      "cell_type": "code",
      "source": [
        "rbf_svr_predict = rbf_svr.predict(x_test)\n",
        "\n",
        "print('rbf_svr:')\n",
        "print('   r2 score: '+str(r2_score(y_test, rbf_svr_predict)))\n",
        "print('   RMSE : '+str(np.sqrt(mean_squared_error(y_test, rbf_svr_predict))))\n",
        "print(\"   Mean Absolute Error : \" + str(mean_absolute_error(y_test, rbf_svr_predict)))"
      ],
      "metadata": {
        "colab": {
          "base_uri": "https://localhost:8080/"
        },
        "id": "6D30ZkogyjYM",
        "outputId": "e8d889ad-356f-400c-d677-16dc22461148"
      },
      "execution_count": 33,
      "outputs": [
        {
          "output_type": "stream",
          "name": "stdout",
          "text": [
            "rbf_svr:\n",
            "   r2 score: 0.9907067193473681\n",
            "   RMSE : 1.6552023926862385\n",
            "   Mean Absolute Error : 0.9757178732620245\n"
          ]
        }
      ]
    },
    {
      "cell_type": "code",
      "source": [
        ""
      ],
      "metadata": {
        "id": "gr-6x1b_Koef"
      },
      "execution_count": null,
      "outputs": []
    },
    {
      "cell_type": "code",
      "source": [
        ""
      ],
      "metadata": {
        "id": "qzrb4qUqyyGr"
      },
      "execution_count": 33,
      "outputs": []
    }
  ]
}