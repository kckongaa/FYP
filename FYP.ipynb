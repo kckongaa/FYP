{
  "nbformat": 4,
  "nbformat_minor": 0,
  "metadata": {
    "colab": {
      "name": "FYP.ipynb",
      "provenance": []
    },
    "kernelspec": {
      "name": "python3",
      "display_name": "Python 3"
    },
    "language_info": {
      "name": "python"
    }
  },
  "cells": [
    {
      "cell_type": "code",
      "source": [
        "import pandas as pd\n",
        "import numpy as np\n",
        "import collections"
      ],
      "metadata": {
        "id": "YA1bHFMNCKQr"
      },
      "execution_count": null,
      "outputs": []
    },
    {
      "cell_type": "code",
      "execution_count": null,
      "metadata": {
        "id": "ShrKx4rJ9p6y"
      },
      "outputs": [],
      "source": [
        "import pandas_datareader.data as web\n",
        "stock = web.DataReader('CCL', 'stooq')\n"
      ]
    },
    {
      "cell_type": "code",
      "source": [
        "stock"
      ],
      "metadata": {
        "colab": {
          "base_uri": "https://localhost:8080/",
          "height": 455
        },
        "id": "kxI6mnxA-mzg",
        "outputId": "dfc614cc-914b-4691-be7e-64445b600e2f"
      },
      "execution_count": null,
      "outputs": [
        {
          "output_type": "execute_result",
          "data": {
            "text/html": [
              "\n",
              "  <div id=\"df-4331bf63-bffd-454b-b7ba-dd0cda53649b\">\n",
              "    <div class=\"colab-df-container\">\n",
              "      <div>\n",
              "<style scoped>\n",
              "    .dataframe tbody tr th:only-of-type {\n",
              "        vertical-align: middle;\n",
              "    }\n",
              "\n",
              "    .dataframe tbody tr th {\n",
              "        vertical-align: top;\n",
              "    }\n",
              "\n",
              "    .dataframe thead th {\n",
              "        text-align: right;\n",
              "    }\n",
              "</style>\n",
              "<table border=\"1\" class=\"dataframe\">\n",
              "  <thead>\n",
              "    <tr style=\"text-align: right;\">\n",
              "      <th></th>\n",
              "      <th>Open</th>\n",
              "      <th>High</th>\n",
              "      <th>Low</th>\n",
              "      <th>Close</th>\n",
              "      <th>Volume</th>\n",
              "    </tr>\n",
              "    <tr>\n",
              "      <th>Date</th>\n",
              "      <th></th>\n",
              "      <th></th>\n",
              "      <th></th>\n",
              "      <th></th>\n",
              "      <th></th>\n",
              "    </tr>\n",
              "  </thead>\n",
              "  <tbody>\n",
              "    <tr>\n",
              "      <th>2022-03-08</th>\n",
              "      <td>15.680</td>\n",
              "      <td>16.5500</td>\n",
              "      <td>14.9400</td>\n",
              "      <td>15.880</td>\n",
              "      <td>68268984</td>\n",
              "    </tr>\n",
              "    <tr>\n",
              "      <th>2022-03-07</th>\n",
              "      <td>17.300</td>\n",
              "      <td>17.4800</td>\n",
              "      <td>15.5200</td>\n",
              "      <td>15.530</td>\n",
              "      <td>67688568</td>\n",
              "    </tr>\n",
              "    <tr>\n",
              "      <th>2022-03-04</th>\n",
              "      <td>17.850</td>\n",
              "      <td>18.0700</td>\n",
              "      <td>17.0201</td>\n",
              "      <td>17.230</td>\n",
              "      <td>57114169</td>\n",
              "    </tr>\n",
              "    <tr>\n",
              "      <th>2022-03-03</th>\n",
              "      <td>19.260</td>\n",
              "      <td>19.7144</td>\n",
              "      <td>18.1100</td>\n",
              "      <td>18.270</td>\n",
              "      <td>40969393</td>\n",
              "    </tr>\n",
              "    <tr>\n",
              "      <th>2022-03-02</th>\n",
              "      <td>19.120</td>\n",
              "      <td>19.5900</td>\n",
              "      <td>18.6900</td>\n",
              "      <td>19.020</td>\n",
              "      <td>41781810</td>\n",
              "    </tr>\n",
              "    <tr>\n",
              "      <th>...</th>\n",
              "      <td>...</td>\n",
              "      <td>...</td>\n",
              "      <td>...</td>\n",
              "      <td>...</td>\n",
              "      <td>...</td>\n",
              "    </tr>\n",
              "    <tr>\n",
              "      <th>2017-03-16</th>\n",
              "      <td>51.717</td>\n",
              "      <td>52.0070</td>\n",
              "      <td>51.6370</td>\n",
              "      <td>51.960</td>\n",
              "      <td>2403791</td>\n",
              "    </tr>\n",
              "    <tr>\n",
              "      <th>2017-03-15</th>\n",
              "      <td>51.519</td>\n",
              "      <td>51.9600</td>\n",
              "      <td>51.3830</td>\n",
              "      <td>51.807</td>\n",
              "      <td>2645671</td>\n",
              "    </tr>\n",
              "    <tr>\n",
              "      <th>2017-03-14</th>\n",
              "      <td>51.528</td>\n",
              "      <td>51.7450</td>\n",
              "      <td>51.2320</td>\n",
              "      <td>51.464</td>\n",
              "      <td>2571273</td>\n",
              "    </tr>\n",
              "    <tr>\n",
              "      <th>2017-03-13</th>\n",
              "      <td>51.797</td>\n",
              "      <td>51.8520</td>\n",
              "      <td>51.5280</td>\n",
              "      <td>51.573</td>\n",
              "      <td>2616309</td>\n",
              "    </tr>\n",
              "    <tr>\n",
              "      <th>2017-03-10</th>\n",
              "      <td>51.147</td>\n",
              "      <td>51.8900</td>\n",
              "      <td>51.1210</td>\n",
              "      <td>51.663</td>\n",
              "      <td>4119948</td>\n",
              "    </tr>\n",
              "  </tbody>\n",
              "</table>\n",
              "<p>1258 rows × 5 columns</p>\n",
              "</div>\n",
              "      <button class=\"colab-df-convert\" onclick=\"convertToInteractive('df-4331bf63-bffd-454b-b7ba-dd0cda53649b')\"\n",
              "              title=\"Convert this dataframe to an interactive table.\"\n",
              "              style=\"display:none;\">\n",
              "        \n",
              "  <svg xmlns=\"http://www.w3.org/2000/svg\" height=\"24px\"viewBox=\"0 0 24 24\"\n",
              "       width=\"24px\">\n",
              "    <path d=\"M0 0h24v24H0V0z\" fill=\"none\"/>\n",
              "    <path d=\"M18.56 5.44l.94 2.06.94-2.06 2.06-.94-2.06-.94-.94-2.06-.94 2.06-2.06.94zm-11 1L8.5 8.5l.94-2.06 2.06-.94-2.06-.94L8.5 2.5l-.94 2.06-2.06.94zm10 10l.94 2.06.94-2.06 2.06-.94-2.06-.94-.94-2.06-.94 2.06-2.06.94z\"/><path d=\"M17.41 7.96l-1.37-1.37c-.4-.4-.92-.59-1.43-.59-.52 0-1.04.2-1.43.59L10.3 9.45l-7.72 7.72c-.78.78-.78 2.05 0 2.83L4 21.41c.39.39.9.59 1.41.59.51 0 1.02-.2 1.41-.59l7.78-7.78 2.81-2.81c.8-.78.8-2.07 0-2.86zM5.41 20L4 18.59l7.72-7.72 1.47 1.35L5.41 20z\"/>\n",
              "  </svg>\n",
              "      </button>\n",
              "      \n",
              "  <style>\n",
              "    .colab-df-container {\n",
              "      display:flex;\n",
              "      flex-wrap:wrap;\n",
              "      gap: 12px;\n",
              "    }\n",
              "\n",
              "    .colab-df-convert {\n",
              "      background-color: #E8F0FE;\n",
              "      border: none;\n",
              "      border-radius: 50%;\n",
              "      cursor: pointer;\n",
              "      display: none;\n",
              "      fill: #1967D2;\n",
              "      height: 32px;\n",
              "      padding: 0 0 0 0;\n",
              "      width: 32px;\n",
              "    }\n",
              "\n",
              "    .colab-df-convert:hover {\n",
              "      background-color: #E2EBFA;\n",
              "      box-shadow: 0px 1px 2px rgba(60, 64, 67, 0.3), 0px 1px 3px 1px rgba(60, 64, 67, 0.15);\n",
              "      fill: #174EA6;\n",
              "    }\n",
              "\n",
              "    [theme=dark] .colab-df-convert {\n",
              "      background-color: #3B4455;\n",
              "      fill: #D2E3FC;\n",
              "    }\n",
              "\n",
              "    [theme=dark] .colab-df-convert:hover {\n",
              "      background-color: #434B5C;\n",
              "      box-shadow: 0px 1px 3px 1px rgba(0, 0, 0, 0.15);\n",
              "      filter: drop-shadow(0px 1px 2px rgba(0, 0, 0, 0.3));\n",
              "      fill: #FFFFFF;\n",
              "    }\n",
              "  </style>\n",
              "\n",
              "      <script>\n",
              "        const buttonEl =\n",
              "          document.querySelector('#df-4331bf63-bffd-454b-b7ba-dd0cda53649b button.colab-df-convert');\n",
              "        buttonEl.style.display =\n",
              "          google.colab.kernel.accessAllowed ? 'block' : 'none';\n",
              "\n",
              "        async function convertToInteractive(key) {\n",
              "          const element = document.querySelector('#df-4331bf63-bffd-454b-b7ba-dd0cda53649b');\n",
              "          const dataTable =\n",
              "            await google.colab.kernel.invokeFunction('convertToInteractive',\n",
              "                                                     [key], {});\n",
              "          if (!dataTable) return;\n",
              "\n",
              "          const docLinkHtml = 'Like what you see? Visit the ' +\n",
              "            '<a target=\"_blank\" href=https://colab.research.google.com/notebooks/data_table.ipynb>data table notebook</a>'\n",
              "            + ' to learn more about interactive tables.';\n",
              "          element.innerHTML = '';\n",
              "          dataTable['output_type'] = 'display_data';\n",
              "          await google.colab.output.renderOutput(dataTable, element);\n",
              "          const docLink = document.createElement('div');\n",
              "          docLink.innerHTML = docLinkHtml;\n",
              "          element.appendChild(docLink);\n",
              "        }\n",
              "      </script>\n",
              "    </div>\n",
              "  </div>\n",
              "  "
            ],
            "text/plain": [
              "              Open     High      Low   Close    Volume\n",
              "Date                                                  \n",
              "2022-03-08  15.680  16.5500  14.9400  15.880  68268984\n",
              "2022-03-07  17.300  17.4800  15.5200  15.530  67688568\n",
              "2022-03-04  17.850  18.0700  17.0201  17.230  57114169\n",
              "2022-03-03  19.260  19.7144  18.1100  18.270  40969393\n",
              "2022-03-02  19.120  19.5900  18.6900  19.020  41781810\n",
              "...            ...      ...      ...     ...       ...\n",
              "2017-03-16  51.717  52.0070  51.6370  51.960   2403791\n",
              "2017-03-15  51.519  51.9600  51.3830  51.807   2645671\n",
              "2017-03-14  51.528  51.7450  51.2320  51.464   2571273\n",
              "2017-03-13  51.797  51.8520  51.5280  51.573   2616309\n",
              "2017-03-10  51.147  51.8900  51.1210  51.663   4119948\n",
              "\n",
              "[1258 rows x 5 columns]"
            ]
          },
          "metadata": {},
          "execution_count": 3
        }
      ]
    },
    {
      "cell_type": "markdown",
      "source": [
        "# DTC\n"
      ],
      "metadata": {
        "id": "Kv9mHovpGgXG"
      }
    },
    {
      "cell_type": "code",
      "source": [
        "from sklearn.tree import DecisionTreeClassifier\n",
        "import matplotlib.pyplot as plt\n",
        "import matplotlib.dates as mdates\n",
        "import datetime as dt\n"
      ],
      "metadata": {
        "id": "FF-Pm2Vv-nxq"
      },
      "execution_count": null,
      "outputs": []
    },
    {
      "cell_type": "code",
      "source": [
        "\n",
        "\n",
        "plt.gca().xaxis.set_major_formatter(mdates.DateFormatter('%m-%d-%Y'))\n",
        "plt.gca().xaxis.set_majo\n",
        "r_locator(mdates.YearLoc\n",
        "          r_locator(mdates.YearLocator())\n",
        "plt.plot( stock['High']  )\n",
        "plt.gcf().autofmt_xdate()"
      ],
      "metadata": {
        "colab": {
          "base_uri": "https://localhost:8080/",
          "height": 271
        },
        "id": "PfUBER6H-x-k",
        "outputId": "5a6727ba-3f40-4f83-d5e0-b572067d9db8"
      },
      "execution_count": null,
      "outputs": [
        {
          "output_type": "display_data",
          "data": {
            "image/png": "[encoded data removed]",
            "text/plain": [
              "<Figure size 432x288 with 1 Axes>"
            ]
          },
          "metadata": {
            "needs_background": "light"
          }
        }
      ]
    },
    {
      "cell_type": "code",
      "source": [
        "stock['Future'] = stock['High'].rolling(window = 30).mean()[::-1].shift(19)\n",
        "stock['Future']"
      ],
      "metadata": {
        "colab": {
          "base_uri": "https://localhost:8080/"
        },
        "id": "rjnR184V-yiv",
        "outputId": "ea716375-9d43-470a-f784-0b9d5e3f38fc"
      },
      "execution_count": null,
      "outputs": [
        {
          "output_type": "execute_result",
          "data": {
            "text/plain": [
              "Date\n",
              "2022-03-08   NaN\n",
              "2022-03-07   NaN\n",
              "2022-03-04   NaN\n",
              "2022-03-03   NaN\n",
              "2022-03-02   NaN\n",
              "              ..\n",
              "2017-03-16   NaN\n",
              "2017-03-15   NaN\n",
              "2017-03-14   NaN\n",
              "2017-03-13   NaN\n",
              "2017-03-10   NaN\n",
              "Name: Future, Length: 1258, dtype: float64"
            ]
          },
          "metadata": {},
          "execution_count": 6
        }
      ]
    },
    {
      "cell_type": "code",
      "source": [
        "stock['Return'] = stock['High'].pct_change(50).shift(-100)\n",
        "features = ['High','Volume']"
      ],
      "metadata": {
        "id": "ZOUJSRUk_71j"
      },
      "execution_count": null,
      "outputs": []
    },
    {
      "cell_type": "code",
      "source": [
        "stock_test = stock[1000: :]\n",
        "stock_train = stock[0:1000:]\n",
        "# first 1000 days for training and 258days for testing"
      ],
      "metadata": {
        "id": "x69NHQmMB3tU"
      },
      "execution_count": null,
      "outputs": []
    },
    {
      "cell_type": "code",
      "source": [
        "stock_test\n"
      ],
      "metadata": {
        "colab": {
          "base_uri": "https://localhost:8080/",
          "height": 455
        },
        "id": "iMJvHFqwB-jK",
        "outputId": "d6975f7d-c8ff-4867-ed37-1aebf68f55f9"
      },
      "execution_count": null,
      "outputs": [
        {
          "output_type": "execute_result",
          "data": {
            "text/html": [
              "\n",
              "  <div id=\"df-04f1ed9f-a6a5-41a4-bb03-ad5520dda6a5\">\n",
              "    <div class=\"colab-df-container\">\n",
              "      <div>\n",
              "<style scoped>\n",
              "    .dataframe tbody tr th:only-of-type {\n",
              "        vertical-align: middle;\n",
              "    }\n",
              "\n",
              "    .dataframe tbody tr th {\n",
              "        vertical-align: top;\n",
              "    }\n",
              "\n",
              "    .dataframe thead th {\n",
              "        text-align: right;\n",
              "    }\n",
              "</style>\n",
              "<table border=\"1\" class=\"dataframe\">\n",
              "  <thead>\n",
              "    <tr style=\"text-align: right;\">\n",
              "      <th></th>\n",
              "      <th>Open</th>\n",
              "      <th>High</th>\n",
              "      <th>Low</th>\n",
              "      <th>Close</th>\n",
              "      <th>Volume</th>\n",
              "      <th>Future</th>\n",
              "      <th>Return</th>\n",
              "    </tr>\n",
              "    <tr>\n",
              "      <th>Date</th>\n",
              "      <th></th>\n",
              "      <th></th>\n",
              "      <th></th>\n",
              "      <th></th>\n",
              "      <th></th>\n",
              "      <th></th>\n",
              "      <th></th>\n",
              "    </tr>\n",
              "  </thead>\n",
              "  <tbody>\n",
              "    <tr>\n",
              "      <th>2018-03-19</th>\n",
              "      <td>62.229</td>\n",
              "      <td>62.999</td>\n",
              "      <td>62.054</td>\n",
              "      <td>62.656</td>\n",
              "      <td>3753157</td>\n",
              "      <td>62.533533</td>\n",
              "      <td>-0.019750</td>\n",
              "    </tr>\n",
              "    <tr>\n",
              "      <th>2018-03-16</th>\n",
              "      <td>61.905</td>\n",
              "      <td>62.137</td>\n",
              "      <td>61.451</td>\n",
              "      <td>61.989</td>\n",
              "      <td>4269285</td>\n",
              "      <td>62.669000</td>\n",
              "      <td>-0.013530</td>\n",
              "    </tr>\n",
              "    <tr>\n",
              "      <th>2018-03-15</th>\n",
              "      <td>62.276</td>\n",
              "      <td>62.383</td>\n",
              "      <td>61.776</td>\n",
              "      <td>61.822</td>\n",
              "      <td>3141970</td>\n",
              "      <td>62.783933</td>\n",
              "      <td>-0.005233</td>\n",
              "    </tr>\n",
              "    <tr>\n",
              "      <th>2018-03-14</th>\n",
              "      <td>62.692</td>\n",
              "      <td>62.748</td>\n",
              "      <td>61.867</td>\n",
              "      <td>62.035</td>\n",
              "      <td>2322542</td>\n",
              "      <td>62.897200</td>\n",
              "      <td>0.012001</td>\n",
              "    </tr>\n",
              "    <tr>\n",
              "      <th>2018-03-13</th>\n",
              "      <td>62.731</td>\n",
              "      <td>63.273</td>\n",
              "      <td>62.481</td>\n",
              "      <td>62.600</td>\n",
              "      <td>2404535</td>\n",
              "      <td>62.973567</td>\n",
              "      <td>0.015518</td>\n",
              "    </tr>\n",
              "    <tr>\n",
              "      <th>...</th>\n",
              "      <td>...</td>\n",
              "      <td>...</td>\n",
              "      <td>...</td>\n",
              "      <td>...</td>\n",
              "      <td>...</td>\n",
              "      <td>...</td>\n",
              "      <td>...</td>\n",
              "    </tr>\n",
              "    <tr>\n",
              "      <th>2017-03-16</th>\n",
              "      <td>51.717</td>\n",
              "      <td>52.007</td>\n",
              "      <td>51.637</td>\n",
              "      <td>51.960</td>\n",
              "      <td>2403791</td>\n",
              "      <td>NaN</td>\n",
              "      <td>NaN</td>\n",
              "    </tr>\n",
              "    <tr>\n",
              "      <th>2017-03-15</th>\n",
              "      <td>51.519</td>\n",
              "      <td>51.960</td>\n",
              "      <td>51.383</td>\n",
              "      <td>51.807</td>\n",
              "      <td>2645671</td>\n",
              "      <td>NaN</td>\n",
              "      <td>NaN</td>\n",
              "    </tr>\n",
              "    <tr>\n",
              "      <th>2017-03-14</th>\n",
              "      <td>51.528</td>\n",
              "      <td>51.745</td>\n",
              "      <td>51.232</td>\n",
              "      <td>51.464</td>\n",
              "      <td>2571273</td>\n",
              "      <td>NaN</td>\n",
              "      <td>NaN</td>\n",
              "    </tr>\n",
              "    <tr>\n",
              "      <th>2017-03-13</th>\n",
              "      <td>51.797</td>\n",
              "      <td>51.852</td>\n",
              "      <td>51.528</td>\n",
              "      <td>51.573</td>\n",
              "      <td>2616309</td>\n",
              "      <td>NaN</td>\n",
              "      <td>NaN</td>\n",
              "    </tr>\n",
              "    <tr>\n",
              "      <th>2017-03-10</th>\n",
              "      <td>51.147</td>\n",
              "      <td>51.890</td>\n",
              "      <td>51.121</td>\n",
              "      <td>51.663</td>\n",
              "      <td>4119948</td>\n",
              "      <td>NaN</td>\n",
              "      <td>NaN</td>\n",
              "    </tr>\n",
              "  </tbody>\n",
              "</table>\n",
              "<p>258 rows × 7 columns</p>\n",
              "</div>\n",
              "      <button class=\"colab-df-convert\" onclick=\"convertToInteractive('df-04f1ed9f-a6a5-41a4-bb03-ad5520dda6a5')\"\n",
              "              title=\"Convert this dataframe to an interactive table.\"\n",
              "              style=\"display:none;\">\n",
              "        \n",
              "  <svg xmlns=\"http://www.w3.org/2000/svg\" height=\"24px\"viewBox=\"0 0 24 24\"\n",
              "       width=\"24px\">\n",
              "    <path d=\"M0 0h24v24H0V0z\" fill=\"none\"/>\n",
              "    <path d=\"M18.56 5.44l.94 2.06.94-2.06 2.06-.94-2.06-.94-.94-2.06-.94 2.06-2.06.94zm-11 1L8.5 8.5l.94-2.06 2.06-.94-2.06-.94L8.5 2.5l-.94 2.06-2.06.94zm10 10l.94 2.06.94-2.06 2.06-.94-2.06-.94-.94-2.06-.94 2.06-2.06.94z\"/><path d=\"M17.41 7.96l-1.37-1.37c-.4-.4-.92-.59-1.43-.59-.52 0-1.04.2-1.43.59L10.3 9.45l-7.72 7.72c-.78.78-.78 2.05 0 2.83L4 21.41c.39.39.9.59 1.41.59.51 0 1.02-.2 1.41-.59l7.78-7.78 2.81-2.81c.8-.78.8-2.07 0-2.86zM5.41 20L4 18.59l7.72-7.72 1.47 1.35L5.41 20z\"/>\n",
              "  </svg>\n",
              "      </button>\n",
              "      \n",
              "  <style>\n",
              "    .colab-df-container {\n",
              "      display:flex;\n",
              "      flex-wrap:wrap;\n",
              "      gap: 12px;\n",
              "    }\n",
              "\n",
              "    .colab-df-convert {\n",
              "      background-color: #E8F0FE;\n",
              "      border: none;\n",
              "      border-radius: 50%;\n",
              "      cursor: pointer;\n",
              "      display: none;\n",
              "      fill: #1967D2;\n",
              "      height: 32px;\n",
              "      padding: 0 0 0 0;\n",
              "      width: 32px;\n",
              "    }\n",
              "\n",
              "    .colab-df-convert:hover {\n",
              "      background-color: #E2EBFA;\n",
              "      box-shadow: 0px 1px 2px rgba(60, 64, 67, 0.3), 0px 1px 3px 1px rgba(60, 64, 67, 0.15);\n",
              "      fill: #174EA6;\n",
              "    }\n",
              "\n",
              "    [theme=dark] .colab-df-convert {\n",
              "      background-color: #3B4455;\n",
              "      fill: #D2E3FC;\n",
              "    }\n",
              "\n",
              "    [theme=dark] .colab-df-convert:hover {\n",
              "      background-color: #434B5C;\n",
              "      box-shadow: 0px 1px 3px 1px rgba(0, 0, 0, 0.15);\n",
              "      filter: drop-shadow(0px 1px 2px rgba(0, 0, 0, 0.3));\n",
              "      fill: #FFFFFF;\n",
              "    }\n",
              "  </style>\n",
              "\n",
              "      <script>\n",
              "        const buttonEl =\n",
              "          document.querySelector('#df-04f1ed9f-a6a5-41a4-bb03-ad5520dda6a5 button.colab-df-convert');\n",
              "        buttonEl.style.display =\n",
              "          google.colab.kernel.accessAllowed ? 'block' : 'none';\n",
              "\n",
              "        async function convertToInteractive(key) {\n",
              "          const element = document.querySelector('#df-04f1ed9f-a6a5-41a4-bb03-ad5520dda6a5');\n",
              "          const dataTable =\n",
              "            await google.colab.kernel.invokeFunction('convertToInteractive',\n",
              "                                                     [key], {});\n",
              "          if (!dataTable) return;\n",
              "\n",
              "          const docLinkHtml = 'Like what you see? Visit the ' +\n",
              "            '<a target=\"_blank\" href=https://colab.research.google.com/notebooks/data_table.ipynb>data table notebook</a>'\n",
              "            + ' to learn more about interactive tables.';\n",
              "          element.innerHTML = '';\n",
              "          dataTable['output_type'] = 'display_data';\n",
              "          await google.colab.output.renderOutput(dataTable, element);\n",
              "          const docLink = document.createElement('div');\n",
              "          docLink.innerHTML = docLinkHtml;\n",
              "          element.appendChild(docLink);\n",
              "        }\n",
              "      </script>\n",
              "    </div>\n",
              "  </div>\n",
              "  "
            ],
            "text/plain": [
              "              Open    High     Low   Close   Volume     Future    Return\n",
              "Date                                                                    \n",
              "2018-03-19  62.229  62.999  62.054  62.656  3753157  62.533533 -0.019750\n",
              "2018-03-16  61.905  62.137  61.451  61.989  4269285  62.669000 -0.013530\n",
              "2018-03-15  62.276  62.383  61.776  61.822  3141970  62.783933 -0.005233\n",
              "2018-03-14  62.692  62.748  61.867  62.035  2322542  62.897200  0.012001\n",
              "2018-03-13  62.731  63.273  62.481  62.600  2404535  62.973567  0.015518\n",
              "...            ...     ...     ...     ...      ...        ...       ...\n",
              "2017-03-16  51.717  52.007  51.637  51.960  2403791        NaN       NaN\n",
              "2017-03-15  51.519  51.960  51.383  51.807  2645671        NaN       NaN\n",
              "2017-03-14  51.528  51.745  51.232  51.464  2571273        NaN       NaN\n",
              "2017-03-13  51.797  51.852  51.528  51.573  2616309        NaN       NaN\n",
              "2017-03-10  51.147  51.890  51.121  51.663  4119948        NaN       NaN\n",
              "\n",
              "[258 rows x 7 columns]"
            ]
          },
          "metadata": {},
          "execution_count": 9
        }
      ]
    },
    {
      "cell_type": "code",
      "source": [
        "x_train = stock_train[features]\n",
        "x_test= stock_test[features]\n",
        "\n",
        "y_train = np.where(stock_train.Return > 0,1,0)\n",
        "y_test = np.where(stock_test.Return> 0,1,0)"
      ],
      "metadata": {
        "id": "MtI0nGY3CAUn"
      },
      "execution_count": null,
      "outputs": []
    },
    {
      "cell_type": "code",
      "source": [
        "TC = DecisionTreeClassifier(max_depth=3,min_samples_leaf=6)\n",
        "TC.fit(x_train,y_train)"
      ],
      "metadata": {
        "colab": {
          "base_uri": "https://localhost:8080/"
        },
        "id": "e-LAWFZQCD30",
        "outputId": "0d416202-184a-44ff-934c-860e7ec37b70"
      },
      "execution_count": null,
      "outputs": [
        {
          "output_type": "execute_result",
          "data": {
            "text/plain": [
              "DecisionTreeClassifier(max_depth=3, min_samples_leaf=6)"
            ]
          },
          "metadata": {},
          "execution_count": 11
        }
      ]
    },
    {
      "cell_type": "code",
      "source": [
        "y_pred = TC.predict(x_test)"
      ],
      "metadata": {
        "id": "TuExwq18CWLO"
      },
      "execution_count": null,
      "outputs": []
    },
    {
      "cell_type": "code",
      "source": [
        "from sklearn.metrics import classification_report\n",
        "report = classification_report(y_test,y_pred)\n",
        "print(report)"
      ],
      "metadata": {
        "colab": {
          "base_uri": "https://localhost:8080/"
        },
        "id": "TVQZKOcrCYKQ",
        "outputId": "60ce0247-aa90-4b82-a5b2-5783c8898c71"
      },
      "execution_count": null,
      "outputs": [
        {
          "output_type": "stream",
          "name": "stdout",
          "text": [
            "              precision    recall  f1-score   support\n",
            "\n",
            "           0       0.76      0.70      0.72       210\n",
            "           1       0.02      0.02      0.02        48\n",
            "\n",
            "    accuracy                           0.57       258\n",
            "   macro avg       0.39      0.36      0.37       258\n",
            "weighted avg       0.62      0.57      0.59       258\n",
            "\n"
          ]
        }
      ]
    },
    {
      "cell_type": "code",
      "source": [
        "from sklearn import tree \n",
        "import graphviz\n",
        "data = tree.export_graphviz(TC,filled=True,feature_names=features,class_names=np.array(['0','1']))\n",
        "graphviz.Source(data)"
      ],
      "metadata": {
        "colab": {
          "base_uri": "https://localhost:8080/",
          "height": 619
        },
        "id": "ZCdjtGj3Cayt",
        "outputId": "cd8f538c-ac5b-4e8f-842d-3bf750c92dc6"
      },
      "execution_count": null,
      "outputs": [
        {
          "output_type": "execute_result",
          "data": {
            "text/plain": [
              "<graphviz.files.Source at 0x7fa4f3c9d810>"
            ],
            "image/svg+xml": "<?xml version=\"1.0\" encoding=\"UTF-8\" standalone=\"no\"?>\n<!DOCTYPE svg PUBLIC \"-//W3C//DTD SVG 1.1//EN\"\n \"http://www.w3.org/Graphics/SVG/1.1/DTD/svg11.dtd\">\n<!-- Generated by graphviz version 2.40.1 (20161225.0304)\n -->\n<!-- Title: Tree Pages: 1 -->\n<svg width=\"1024pt\" height=\"433pt\"\n viewBox=\"0.00 0.00 1024.00 433.00\" xmlns=\"http://www.w3.org/2000/svg\" xmlns:xlink=\"http://www.w3.org/1999/xlink\">\n<g id=\"graph0\" class=\"graph\" transform=\"scale(1 1) rotate(0) translate(4 429)\">\n<title>Tree</title>\n<polygon fill=\"#ffffff\" stroke=\"transparent\" points=\"-4,4 -4,-429 1020,-429 1020,4 -4,4\"/>\n<!-- 0 -->\n<g id=\"node1\" class=\"node\">\n<title>0</title>\n<polygon fill=\"#bedff6\" stroke=\"#000000\" points=\"571,-425 412,-425 412,-342 571,-342 571,-425\"/>\n<text text-anchor=\"middle\" x=\"491.5\" y=\"-409.8\" font-family=\"Helvetica,sans-Serif\" font-size=\"14.00\" fill=\"#000000\">Volume &lt;= 7812043.5</text>\n<text text-anchor=\"middle\" x=\"491.5\" y=\"-394.8\" font-family=\"Helvetica,sans-Serif\" font-size=\"14.00\" fill=\"#000000\">gini = 0.481</text>\n<text text-anchor=\"middle\" x=\"491.5\" y=\"-379.8\" font-family=\"Helvetica,sans-Serif\" font-size=\"14.00\" fill=\"#000000\">samples = 1000</text>\n<text text-anchor=\"middle\" x=\"491.5\" y=\"-364.8\" font-family=\"Helvetica,sans-Serif\" font-size=\"14.00\" fill=\"#000000\">value = [402, 598]</text>\n<text text-anchor=\"middle\" x=\"491.5\" y=\"-349.8\" font-family=\"Helvetica,sans-Serif\" font-size=\"14.00\" fill=\"#000000\">class = 1</text>\n</g>\n<!-- 1 -->\n<g id=\"node2\" class=\"node\">\n<title>1</title>\n<polygon fill=\"#88c4ef\" stroke=\"#000000\" points=\"475.5,-306 343.5,-306 343.5,-223 475.5,-223 475.5,-306\"/>\n<text text-anchor=\"middle\" x=\"409.5\" y=\"-290.8\" font-family=\"Helvetica,sans-Serif\" font-size=\"14.00\" fill=\"#000000\">High &lt;= 58.566</text>\n<text text-anchor=\"middle\" x=\"409.5\" y=\"-275.8\" font-family=\"Helvetica,sans-Serif\" font-size=\"14.00\" fill=\"#000000\">gini = 0.408</text>\n<text text-anchor=\"middle\" x=\"409.5\" y=\"-260.8\" font-family=\"Helvetica,sans-Serif\" font-size=\"14.00\" fill=\"#000000\">samples = 462</text>\n<text text-anchor=\"middle\" x=\"409.5\" y=\"-245.8\" font-family=\"Helvetica,sans-Serif\" font-size=\"14.00\" fill=\"#000000\">value = [132, 330]</text>\n<text text-anchor=\"middle\" x=\"409.5\" y=\"-230.8\" font-family=\"Helvetica,sans-Serif\" font-size=\"14.00\" fill=\"#000000\">class = 1</text>\n</g>\n<!-- 0&#45;&gt;1 -->\n<g id=\"edge1\" class=\"edge\">\n<title>0&#45;&gt;1</title>\n<path fill=\"none\" stroke=\"#000000\" d=\"M462.8204,-341.8796C456.7385,-333.0534 450.2578,-323.6485 443.9859,-314.5466\"/>\n<polygon fill=\"#000000\" stroke=\"#000000\" points=\"446.8582,-312.5465 438.302,-306.2981 441.0941,-316.5184 446.8582,-312.5465\"/>\n<text text-anchor=\"middle\" x=\"433.7761\" y=\"-327.185\" font-family=\"Helvetica,sans-Serif\" font-size=\"14.00\" fill=\"#000000\">True</text>\n</g>\n<!-- 8 -->\n<g id=\"node9\" class=\"node\">\n<title>8</title>\n<polygon fill=\"#fffefe\" stroke=\"#000000\" points=\"659.5,-306 527.5,-306 527.5,-223 659.5,-223 659.5,-306\"/>\n<text text-anchor=\"middle\" x=\"593.5\" y=\"-290.8\" font-family=\"Helvetica,sans-Serif\" font-size=\"14.00\" fill=\"#000000\">High &lt;= 26.023</text>\n<text text-anchor=\"middle\" x=\"593.5\" y=\"-275.8\" font-family=\"Helvetica,sans-Serif\" font-size=\"14.00\" fill=\"#000000\">gini = 0.5</text>\n<text text-anchor=\"middle\" x=\"593.5\" y=\"-260.8\" font-family=\"Helvetica,sans-Serif\" font-size=\"14.00\" fill=\"#000000\">samples = 538</text>\n<text text-anchor=\"middle\" x=\"593.5\" y=\"-245.8\" font-family=\"Helvetica,sans-Serif\" font-size=\"14.00\" fill=\"#000000\">value = [270, 268]</text>\n<text text-anchor=\"middle\" x=\"593.5\" y=\"-230.8\" font-family=\"Helvetica,sans-Serif\" font-size=\"14.00\" fill=\"#000000\">class = 0</text>\n</g>\n<!-- 0&#45;&gt;8 -->\n<g id=\"edge8\" class=\"edge\">\n<title>0&#45;&gt;8</title>\n<path fill=\"none\" stroke=\"#000000\" d=\"M527.1747,-341.8796C534.8943,-332.8733 543.1305,-323.2644 551.0803,-313.9897\"/>\n<polygon fill=\"#000000\" stroke=\"#000000\" points=\"553.8225,-316.1684 557.6731,-306.2981 548.5077,-311.6129 553.8225,-316.1684\"/>\n<text text-anchor=\"middle\" x=\"559.5905\" y=\"-327.5244\" font-family=\"Helvetica,sans-Serif\" font-size=\"14.00\" fill=\"#000000\">False</text>\n</g>\n<!-- 2 -->\n<g id=\"node3\" class=\"node\">\n<title>2</title>\n<polygon fill=\"#70b8ec\" stroke=\"#000000\" points=\"259,-187 100,-187 100,-104 259,-104 259,-187\"/>\n<text text-anchor=\"middle\" x=\"179.5\" y=\"-171.8\" font-family=\"Helvetica,sans-Serif\" font-size=\"14.00\" fill=\"#000000\">Volume &lt;= 2154540.5</text>\n<text text-anchor=\"middle\" x=\"179.5\" y=\"-156.8\" font-family=\"Helvetica,sans-Serif\" font-size=\"14.00\" fill=\"#000000\">gini = 0.339</text>\n<text text-anchor=\"middle\" x=\"179.5\" y=\"-141.8\" font-family=\"Helvetica,sans-Serif\" font-size=\"14.00\" fill=\"#000000\">samples = 383</text>\n<text text-anchor=\"middle\" x=\"179.5\" y=\"-126.8\" font-family=\"Helvetica,sans-Serif\" font-size=\"14.00\" fill=\"#000000\">value = [83, 300]</text>\n<text text-anchor=\"middle\" x=\"179.5\" y=\"-111.8\" font-family=\"Helvetica,sans-Serif\" font-size=\"14.00\" fill=\"#000000\">class = 1</text>\n</g>\n<!-- 1&#45;&gt;2 -->\n<g id=\"edge2\" class=\"edge\">\n<title>1&#45;&gt;2</title>\n<path fill=\"none\" stroke=\"#000000\" d=\"M343.283,-230.2399C319.8808,-218.1318 293.1701,-204.3119 268.206,-191.3957\"/>\n<polygon fill=\"#000000\" stroke=\"#000000\" points=\"269.5871,-188.1696 259.0971,-186.6829 266.3704,-194.3868 269.5871,-188.1696\"/>\n</g>\n<!-- 5 -->\n<g id=\"node6\" class=\"node\">\n<title>5</title>\n<polygon fill=\"#f5ceb2\" stroke=\"#000000\" points=\"489,-187 330,-187 330,-104 489,-104 489,-187\"/>\n<text text-anchor=\"middle\" x=\"409.5\" y=\"-171.8\" font-family=\"Helvetica,sans-Serif\" font-size=\"14.00\" fill=\"#000000\">Volume &lt;= 6075967.0</text>\n<text text-anchor=\"middle\" x=\"409.5\" y=\"-156.8\" font-family=\"Helvetica,sans-Serif\" font-size=\"14.00\" fill=\"#000000\">gini = 0.471</text>\n<text text-anchor=\"middle\" x=\"409.5\" y=\"-141.8\" font-family=\"Helvetica,sans-Serif\" font-size=\"14.00\" fill=\"#000000\">samples = 79</text>\n<text text-anchor=\"middle\" x=\"409.5\" y=\"-126.8\" font-family=\"Helvetica,sans-Serif\" font-size=\"14.00\" fill=\"#000000\">value = [49, 30]</text>\n<text text-anchor=\"middle\" x=\"409.5\" y=\"-111.8\" font-family=\"Helvetica,sans-Serif\" font-size=\"14.00\" fill=\"#000000\">class = 0</text>\n</g>\n<!-- 1&#45;&gt;5 -->\n<g id=\"edge5\" class=\"edge\">\n<title>1&#45;&gt;5</title>\n<path fill=\"none\" stroke=\"#000000\" d=\"M409.5,-222.8796C409.5,-214.6838 409.5,-205.9891 409.5,-197.5013\"/>\n<polygon fill=\"#000000\" stroke=\"#000000\" points=\"413.0001,-197.298 409.5,-187.2981 406.0001,-197.2981 413.0001,-197.298\"/>\n</g>\n<!-- 3 -->\n<g id=\"node4\" class=\"node\">\n<title>3</title>\n<polygon fill=\"#f5cdb0\" stroke=\"#000000\" points=\"99,-68 0,-68 0,0 99,0 99,-68\"/>\n<text text-anchor=\"middle\" x=\"49.5\" y=\"-52.8\" font-family=\"Helvetica,sans-Serif\" font-size=\"14.00\" fill=\"#000000\">gini = 0.469</text>\n<text text-anchor=\"middle\" x=\"49.5\" y=\"-37.8\" font-family=\"Helvetica,sans-Serif\" font-size=\"14.00\" fill=\"#000000\">samples = 8</text>\n<text text-anchor=\"middle\" x=\"49.5\" y=\"-22.8\" font-family=\"Helvetica,sans-Serif\" font-size=\"14.00\" fill=\"#000000\">value = [5, 3]</text>\n<text text-anchor=\"middle\" x=\"49.5\" y=\"-7.8\" font-family=\"Helvetica,sans-Serif\" font-size=\"14.00\" fill=\"#000000\">class = 0</text>\n</g>\n<!-- 2&#45;&gt;3 -->\n<g id=\"edge3\" class=\"edge\">\n<title>2&#45;&gt;3</title>\n<path fill=\"none\" stroke=\"#000000\" d=\"M131.0928,-103.9815C120.0558,-94.5151 108.3347,-84.462 97.3223,-75.0168\"/>\n<polygon fill=\"#000000\" stroke=\"#000000\" points=\"99.3178,-72.1173 89.4487,-68.2637 94.7606,-77.4307 99.3178,-72.1173\"/>\n</g>\n<!-- 4 -->\n<g id=\"node5\" class=\"node\">\n<title>4</title>\n<polygon fill=\"#6db7ec\" stroke=\"#000000\" points=\"241.5,-68 117.5,-68 117.5,0 241.5,0 241.5,-68\"/>\n<text text-anchor=\"middle\" x=\"179.5\" y=\"-52.8\" font-family=\"Helvetica,sans-Serif\" font-size=\"14.00\" fill=\"#000000\">gini = 0.329</text>\n<text text-anchor=\"middle\" x=\"179.5\" y=\"-37.8\" font-family=\"Helvetica,sans-Serif\" font-size=\"14.00\" fill=\"#000000\">samples = 375</text>\n<text text-anchor=\"middle\" x=\"179.5\" y=\"-22.8\" font-family=\"Helvetica,sans-Serif\" font-size=\"14.00\" fill=\"#000000\">value = [78, 297]</text>\n<text text-anchor=\"middle\" x=\"179.5\" y=\"-7.8\" font-family=\"Helvetica,sans-Serif\" font-size=\"14.00\" fill=\"#000000\">class = 1</text>\n</g>\n<!-- 2&#45;&gt;4 -->\n<g id=\"edge4\" class=\"edge\">\n<title>2&#45;&gt;4</title>\n<path fill=\"none\" stroke=\"#000000\" d=\"M179.5,-103.9815C179.5,-95.618 179.5,-86.7965 179.5,-78.3409\"/>\n<polygon fill=\"#000000\" stroke=\"#000000\" points=\"183.0001,-78.2636 179.5,-68.2637 176.0001,-78.2637 183.0001,-78.2636\"/>\n</g>\n<!-- 6 -->\n<g id=\"node7\" class=\"node\">\n<title>6</title>\n<polygon fill=\"#f3c4a2\" stroke=\"#000000\" points=\"375.5,-68 259.5,-68 259.5,0 375.5,0 375.5,-68\"/>\n<text text-anchor=\"middle\" x=\"317.5\" y=\"-52.8\" font-family=\"Helvetica,sans-Serif\" font-size=\"14.00\" fill=\"#000000\">gini = 0.453</text>\n<text text-anchor=\"middle\" x=\"317.5\" y=\"-37.8\" font-family=\"Helvetica,sans-Serif\" font-size=\"14.00\" fill=\"#000000\">samples = 72</text>\n<text text-anchor=\"middle\" x=\"317.5\" y=\"-22.8\" font-family=\"Helvetica,sans-Serif\" font-size=\"14.00\" fill=\"#000000\">value = [47, 25]</text>\n<text text-anchor=\"middle\" x=\"317.5\" y=\"-7.8\" font-family=\"Helvetica,sans-Serif\" font-size=\"14.00\" fill=\"#000000\">class = 0</text>\n</g>\n<!-- 5&#45;&gt;6 -->\n<g id=\"edge6\" class=\"edge\">\n<title>5&#45;&gt;6</title>\n<path fill=\"none\" stroke=\"#000000\" d=\"M375.2426,-103.9815C367.7351,-94.8828 359.7804,-85.242 352.2536,-76.1199\"/>\n<polygon fill=\"#000000\" stroke=\"#000000\" points=\"354.8354,-73.7495 345.7714,-68.2637 349.4361,-78.2045 354.8354,-73.7495\"/>\n</g>\n<!-- 7 -->\n<g id=\"node8\" class=\"node\">\n<title>7</title>\n<polygon fill=\"#88c4ef\" stroke=\"#000000\" points=\"493,-68 394,-68 394,0 493,0 493,-68\"/>\n<text text-anchor=\"middle\" x=\"443.5\" y=\"-52.8\" font-family=\"Helvetica,sans-Serif\" font-size=\"14.00\" fill=\"#000000\">gini = 0.408</text>\n<text text-anchor=\"middle\" x=\"443.5\" y=\"-37.8\" font-family=\"Helvetica,sans-Serif\" font-size=\"14.00\" fill=\"#000000\">samples = 7</text>\n<text text-anchor=\"middle\" x=\"443.5\" y=\"-22.8\" font-family=\"Helvetica,sans-Serif\" font-size=\"14.00\" fill=\"#000000\">value = [2, 5]</text>\n<text text-anchor=\"middle\" x=\"443.5\" y=\"-7.8\" font-family=\"Helvetica,sans-Serif\" font-size=\"14.00\" fill=\"#000000\">class = 1</text>\n</g>\n<!-- 5&#45;&gt;7 -->\n<g id=\"edge7\" class=\"edge\">\n<title>5&#45;&gt;7</title>\n<path fill=\"none\" stroke=\"#000000\" d=\"M422.1603,-103.9815C424.7387,-95.5261 427.4597,-86.6026 430.064,-78.0623\"/>\n<polygon fill=\"#000000\" stroke=\"#000000\" points=\"433.4829,-78.8497 433.0519,-68.2637 426.7873,-76.808 433.4829,-78.8497\"/>\n</g>\n<!-- 9 -->\n<g id=\"node10\" class=\"node\">\n<title>9</title>\n<polygon fill=\"#bddef6\" stroke=\"#000000\" points=\"659.5,-187 527.5,-187 527.5,-104 659.5,-104 659.5,-187\"/>\n<text text-anchor=\"middle\" x=\"593.5\" y=\"-171.8\" font-family=\"Helvetica,sans-Serif\" font-size=\"14.00\" fill=\"#000000\">High &lt;= 12.295</text>\n<text text-anchor=\"middle\" x=\"593.5\" y=\"-156.8\" font-family=\"Helvetica,sans-Serif\" font-size=\"14.00\" fill=\"#000000\">gini = 0.48</text>\n<text text-anchor=\"middle\" x=\"593.5\" y=\"-141.8\" font-family=\"Helvetica,sans-Serif\" font-size=\"14.00\" fill=\"#000000\">samples = 408</text>\n<text text-anchor=\"middle\" x=\"593.5\" y=\"-126.8\" font-family=\"Helvetica,sans-Serif\" font-size=\"14.00\" fill=\"#000000\">value = [163, 245]</text>\n<text text-anchor=\"middle\" x=\"593.5\" y=\"-111.8\" font-family=\"Helvetica,sans-Serif\" font-size=\"14.00\" fill=\"#000000\">class = 1</text>\n</g>\n<!-- 8&#45;&gt;9 -->\n<g id=\"edge9\" class=\"edge\">\n<title>8&#45;&gt;9</title>\n<path fill=\"none\" stroke=\"#000000\" d=\"M593.5,-222.8796C593.5,-214.6838 593.5,-205.9891 593.5,-197.5013\"/>\n<polygon fill=\"#000000\" stroke=\"#000000\" points=\"597.0001,-197.298 593.5,-187.2981 590.0001,-197.2981 597.0001,-197.298\"/>\n</g>\n<!-- 12 -->\n<g id=\"node13\" class=\"node\">\n<title>12</title>\n<polygon fill=\"#eb9c64\" stroke=\"#000000\" points=\"896.5,-187 772.5,-187 772.5,-104 896.5,-104 896.5,-187\"/>\n<text text-anchor=\"middle\" x=\"834.5\" y=\"-171.8\" font-family=\"Helvetica,sans-Serif\" font-size=\"14.00\" fill=\"#000000\">High &lt;= 42.364</text>\n<text text-anchor=\"middle\" x=\"834.5\" y=\"-156.8\" font-family=\"Helvetica,sans-Serif\" font-size=\"14.00\" fill=\"#000000\">gini = 0.291</text>\n<text text-anchor=\"middle\" x=\"834.5\" y=\"-141.8\" font-family=\"Helvetica,sans-Serif\" font-size=\"14.00\" fill=\"#000000\">samples = 130</text>\n<text text-anchor=\"middle\" x=\"834.5\" y=\"-126.8\" font-family=\"Helvetica,sans-Serif\" font-size=\"14.00\" fill=\"#000000\">value = [107, 23]</text>\n<text text-anchor=\"middle\" x=\"834.5\" y=\"-111.8\" font-family=\"Helvetica,sans-Serif\" font-size=\"14.00\" fill=\"#000000\">class = 0</text>\n</g>\n<!-- 8&#45;&gt;12 -->\n<g id=\"edge12\" class=\"edge\">\n<title>8&#45;&gt;12</title>\n<path fill=\"none\" stroke=\"#000000\" d=\"M659.6731,-231.8253C691.7707,-215.9763 730.3727,-196.9155 763.13,-180.7408\"/>\n<polygon fill=\"#000000\" stroke=\"#000000\" points=\"764.7871,-183.8261 772.2039,-176.2603 761.6878,-177.5495 764.7871,-183.8261\"/>\n</g>\n<!-- 10 -->\n<g id=\"node11\" class=\"node\">\n<title>10</title>\n<polygon fill=\"#e89152\" stroke=\"#000000\" points=\"610,-68 511,-68 511,0 610,0 610,-68\"/>\n<text text-anchor=\"middle\" x=\"560.5\" y=\"-52.8\" font-family=\"Helvetica,sans-Serif\" font-size=\"14.00\" fill=\"#000000\">gini = 0.198</text>\n<text text-anchor=\"middle\" x=\"560.5\" y=\"-37.8\" font-family=\"Helvetica,sans-Serif\" font-size=\"14.00\" fill=\"#000000\">samples = 9</text>\n<text text-anchor=\"middle\" x=\"560.5\" y=\"-22.8\" font-family=\"Helvetica,sans-Serif\" font-size=\"14.00\" fill=\"#000000\">value = [8, 1]</text>\n<text text-anchor=\"middle\" x=\"560.5\" y=\"-7.8\" font-family=\"Helvetica,sans-Serif\" font-size=\"14.00\" fill=\"#000000\">class = 0</text>\n</g>\n<!-- 9&#45;&gt;10 -->\n<g id=\"edge10\" class=\"edge\">\n<title>9&#45;&gt;10</title>\n<path fill=\"none\" stroke=\"#000000\" d=\"M581.212,-103.9815C578.7095,-95.5261 576.0685,-86.6026 573.5409,-78.0623\"/>\n<polygon fill=\"#000000\" stroke=\"#000000\" points=\"576.8349,-76.8592 570.6408,-68.2637 570.1227,-78.8458 576.8349,-76.8592\"/>\n</g>\n<!-- 11 -->\n<g id=\"node12\" class=\"node\">\n<title>11</title>\n<polygon fill=\"#b7dbf6\" stroke=\"#000000\" points=\"760.5,-68 628.5,-68 628.5,0 760.5,0 760.5,-68\"/>\n<text text-anchor=\"middle\" x=\"694.5\" y=\"-52.8\" font-family=\"Helvetica,sans-Serif\" font-size=\"14.00\" fill=\"#000000\">gini = 0.475</text>\n<text text-anchor=\"middle\" x=\"694.5\" y=\"-37.8\" font-family=\"Helvetica,sans-Serif\" font-size=\"14.00\" fill=\"#000000\">samples = 399</text>\n<text text-anchor=\"middle\" x=\"694.5\" y=\"-22.8\" font-family=\"Helvetica,sans-Serif\" font-size=\"14.00\" fill=\"#000000\">value = [155, 244]</text>\n<text text-anchor=\"middle\" x=\"694.5\" y=\"-7.8\" font-family=\"Helvetica,sans-Serif\" font-size=\"14.00\" fill=\"#000000\">class = 1</text>\n</g>\n<!-- 9&#45;&gt;11 -->\n<g id=\"edge11\" class=\"edge\">\n<title>9&#45;&gt;11</title>\n<path fill=\"none\" stroke=\"#000000\" d=\"M631.1087,-103.9815C639.4339,-94.7908 648.26,-85.0472 656.5968,-75.8436\"/>\n<polygon fill=\"#000000\" stroke=\"#000000\" points=\"659.3434,-78.0248 663.463,-68.2637 654.1554,-73.3254 659.3434,-78.0248\"/>\n</g>\n<!-- 13 -->\n<g id=\"node14\" class=\"node\">\n<title>13</title>\n<polygon fill=\"#e78c4b\" stroke=\"#000000\" points=\"890.5,-68 778.5,-68 778.5,0 890.5,0 890.5,-68\"/>\n<text text-anchor=\"middle\" x=\"834.5\" y=\"-52.8\" font-family=\"Helvetica,sans-Serif\" font-size=\"14.00\" fill=\"#000000\">gini = 0.153</text>\n<text text-anchor=\"middle\" x=\"834.5\" y=\"-37.8\" font-family=\"Helvetica,sans-Serif\" font-size=\"14.00\" fill=\"#000000\">samples = 108</text>\n<text text-anchor=\"middle\" x=\"834.5\" y=\"-22.8\" font-family=\"Helvetica,sans-Serif\" font-size=\"14.00\" fill=\"#000000\">value = [99, 9]</text>\n<text text-anchor=\"middle\" x=\"834.5\" y=\"-7.8\" font-family=\"Helvetica,sans-Serif\" font-size=\"14.00\" fill=\"#000000\">class = 0</text>\n</g>\n<!-- 12&#45;&gt;13 -->\n<g id=\"edge13\" class=\"edge\">\n<title>12&#45;&gt;13</title>\n<path fill=\"none\" stroke=\"#000000\" d=\"M834.5,-103.9815C834.5,-95.618 834.5,-86.7965 834.5,-78.3409\"/>\n<polygon fill=\"#000000\" stroke=\"#000000\" points=\"838.0001,-78.2636 834.5,-68.2637 831.0001,-78.2637 838.0001,-78.2636\"/>\n</g>\n<!-- 14 -->\n<g id=\"node15\" class=\"node\">\n<title>14</title>\n<polygon fill=\"#aad5f4\" stroke=\"#000000\" points=\"1016,-68 909,-68 909,0 1016,0 1016,-68\"/>\n<text text-anchor=\"middle\" x=\"962.5\" y=\"-52.8\" font-family=\"Helvetica,sans-Serif\" font-size=\"14.00\" fill=\"#000000\">gini = 0.463</text>\n<text text-anchor=\"middle\" x=\"962.5\" y=\"-37.8\" font-family=\"Helvetica,sans-Serif\" font-size=\"14.00\" fill=\"#000000\">samples = 22</text>\n<text text-anchor=\"middle\" x=\"962.5\" y=\"-22.8\" font-family=\"Helvetica,sans-Serif\" font-size=\"14.00\" fill=\"#000000\">value = [8, 14]</text>\n<text text-anchor=\"middle\" x=\"962.5\" y=\"-7.8\" font-family=\"Helvetica,sans-Serif\" font-size=\"14.00\" fill=\"#000000\">class = 1</text>\n</g>\n<!-- 12&#45;&gt;14 -->\n<g id=\"edge14\" class=\"edge\">\n<title>12&#45;&gt;14</title>\n<path fill=\"none\" stroke=\"#000000\" d=\"M882.1625,-103.9815C893.0297,-94.5151 904.5705,-84.462 915.4135,-75.0168\"/>\n<polygon fill=\"#000000\" stroke=\"#000000\" points=\"917.9245,-77.4712 923.1659,-68.2637 913.3266,-72.1929 917.9245,-77.4712\"/>\n</g>\n</g>\n</svg>\n"
          },
          "metadata": {},
          "execution_count": 14
        }
      ]
    },
    {
      "cell_type": "markdown",
      "source": [
        "# SVR"
      ],
      "metadata": {
        "id": "g1WvBa5mHvOo"
      }
    },
    {
      "cell_type": "code",
      "source": [
        "from sklearn.svm import SVR\n",
        "from sklearn.metrics import r2_score, mean_squared_error, mean_absolute_error\n",
        "from datetime import datetime"
      ],
      "metadata": {
        "id": "R74AwQgfIG-H"
      },
      "execution_count": null,
      "outputs": []
    },
    {
      "cell_type": "code",
      "source": [
        "stock_svr = stock.reset_index()"
      ],
      "metadata": {
        "id": "H-D0s6wbu_g_"
      },
      "execution_count": null,
      "outputs": []
    },
    {
      "cell_type": "code",
      "source": [
        "dates = stock_svr.index.tolist()\n",
        "dates_arr = [[i]for i in dates]"
      ],
      "metadata": {
        "id": "oTRDtCCLIHTw"
      },
      "execution_count": null,
      "outputs": []
    },
    {
      "cell_type": "code",
      "source": [
        "High = stock['High'].tolist()"
      ],
      "metadata": {
        "id": "PbQiGH4aodal"
      },
      "execution_count": null,
      "outputs": []
    },
    {
      "cell_type": "code",
      "source": [
        "from sklearn.model_selection import train_test_split\n",
        "x_train,x_test,y_train,y_test = train_test_split(dates_arr, High, test_size = 0.25)"
      ],
      "metadata": {
        "id": "H0Nf4FLZp5mv"
      },
      "execution_count": null,
      "outputs": []
    },
    {
      "cell_type": "code",
      "source": [
        "lin_svr = SVR(kernel='linear')\n",
        "\n",
        "poly_svr = SVR(kernel='poly', C=1000.0, degree = 2)\n",
        "\n",
        "rbf_svr = SVR(kernel='rbf', C=1000.0, gamma=0.15)"
      ],
      "metadata": {
        "id": "jJjsmx9dmhl-"
      },
      "execution_count": null,
      "outputs": []
    },
    {
      "cell_type": "code",
      "source": [
        "lin_svr.fit(x_train,y_train)\n",
        "poly_svr.fit(x_train,y_train)\n",
        "rbf_svr.fit(x_train,y_train)"
      ],
      "metadata": {
        "colab": {
          "base_uri": "https://localhost:8080/"
        },
        "id": "qyRaPgPnnose",
        "outputId": "912cdd78-6405-4780-c586-c6d6bc61e0d4"
      },
      "execution_count": null,
      "outputs": [
        {
          "output_type": "execute_result",
          "data": {
            "text/plain": [
              "SVR(C=1000.0, gamma=0.15)"
            ]
          },
          "metadata": {},
          "execution_count": 89
        }
      ]
    },
    {
      "cell_type": "code",
      "source": [
        "lin_svr_predict = lin_svr.predict(x_test)\n",
        "\n",
        "print('Lin_svr:')\n",
        "print('   r2 score: '+str(r2_score(y_test, lin_svr_predict)))\n",
        "print('   RMSE : '+str(np.sqrt(mean_squared_error(y_test, lin_svr_predict))))\n",
        "print(\"   Mean Absolute Error : \" + str(mean_absolute_error(y_test, lin_svr_predict)))"
      ],
      "metadata": {
        "colab": {
          "base_uri": "https://localhost:8080/"
        },
        "id": "cuW1KaXQp2so",
        "outputId": "3af0ef94-be87-45f8-ce4d-feaf2663ce71"
      },
      "execution_count": null,
      "outputs": [
        {
          "output_type": "stream",
          "name": "stdout",
          "text": [
            "Lin_svr:\n",
            "   r2 score: 0.7378967140516745\n",
            "   RMSE : 8.844285831953808\n",
            "   Mean Absolute Error : 5.991206767109883\n"
          ]
        }
      ]
    },
    {
      "cell_type": "code",
      "source": [
        "poly_svr_predict = poly_svr.predict(x_test)\n",
        "\n",
        "print('poly_svr:')\n",
        "print('   r2 score: '+str(r2_score(y_test, poly_svr_predict)))\n",
        "print('   RMSE : '+str(np.sqrt(mean_squared_error(y_test, poly_svr_predict))))\n",
        "print(\"   Mean Absolute Error : \" + str(mean_absolute_error(y_test, lin_svr_predict)))"
      ],
      "metadata": {
        "colab": {
          "base_uri": "https://localhost:8080/"
        },
        "id": "-5QcC5UlyO7V",
        "outputId": "bc3df033-96c5-4f0f-9680-301273b5492c"
      },
      "execution_count": null,
      "outputs": [
        {
          "output_type": "stream",
          "name": "stdout",
          "text": [
            "poly_svr:\n",
            "   r2 score: 0.7214921162443158\n",
            "   RMSE : 9.116859954785527\n",
            "   Mean Absolute Error : 5.991206767109883\n"
          ]
        }
      ]
    },
    {
      "cell_type": "code",
      "source": [
        "rbf_svr_predict = rbf_svr.predict(x_test)\n",
        "\n",
        "print('rbf_svr:')\n",
        "print('   r2 score: '+str(r2_score(y_test, rbf_svr_predict)))\n",
        "print('   RMSE : '+str(np.sqrt(mean_squared_error(y_test, rbf_svr_predict))))\n",
        "print(\"   Mean Absolute Error : \" + str(mean_absolute_error(y_test, rbf_svr_predict)))"
      ],
      "metadata": {
        "colab": {
          "base_uri": "https://localhost:8080/"
        },
        "id": "6D30ZkogyjYM",
        "outputId": "cd9d2651-8635-4eca-c9d5-7900568fc443"
      },
      "execution_count": null,
      "outputs": [
        {
          "output_type": "stream",
          "name": "stdout",
          "text": [
            "rbf_svr:\n",
            "   r2 score: 0.9920005946574527\n",
            "   RMSE : 1.5450957175251485\n",
            "   Mean Absolute Error : 0.9676124460789944\n"
          ]
        }
      ]
    },
    {
      "cell_type": "code",
      "source": [
        ""
      ],
      "metadata": {
        "id": "qzrb4qUqyyGr"
      },
      "execution_count": null,
      "outputs": []
    }
  ]
}